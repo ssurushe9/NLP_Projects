{
 "cells": [
  {
   "cell_type": "markdown",
   "id": "1555c76a",
   "metadata": {},
   "source": [
    "conda install -c conda-forge spacy-model-en_core_web_md"
   ]
  },
  {
   "cell_type": "code",
   "execution_count": 11,
   "id": "10fea715",
   "metadata": {},
   "outputs": [],
   "source": [
    "data = \"\"\"The Mahabharata is a story about a great battle between the Kauravas and the Pandavas.\n",
    "The battle was fought in Kurukshetra near Delhi. \n",
    "Many kings and princes took part in the battle. \n",
    "The Pandavas defeated the Kauravas.\n",
    "The Bhagvad Gita is a holy book of the Hindus.\n",
    "It is a part of the Mahabharata. \n",
    "Then, Lord Rama, with the help of It is a book of collection of teachings of Lord Krishna to Arjuna in the battlefield.\n",
    "It is the longest epic in the world.\"\"\""
   ]
  },
  {
   "cell_type": "code",
   "execution_count": 20,
   "id": "bcb8d4e8",
   "metadata": {},
   "outputs": [],
   "source": [
    "import spacy\n",
    "from nltk.tokenize import word_tokenize\n",
    "from nltk.corpus import stopwords\n",
    "from string import punctuation\n"
   ]
  },
  {
   "cell_type": "code",
   "execution_count": 9,
   "id": "376fabd1",
   "metadata": {},
   "outputs": [],
   "source": [
    "stopword_list = stopwords.words(\"english\")\n",
    "stopword_list.remove(\"no\")\n",
    "stopword_list.remove(\"not\")\n",
    "stopword_list.remove(\"nor\")\n",
    "\n",
    "def cleaning_text(data):\n",
    "    tokens = word_tokenize(data)\n",
    "    clean_tokens = [ i.lower() for i in tokens if (i.lower() not in stopword_list) and (i not in punctuation)]\n",
    "    clean_tokens = [ i for i in clean_tokens if (len(i)>1 and i.isalpha())]\n",
    "    return \" \".join(clean_tokens)"
   ]
  },
  {
   "cell_type": "code",
   "execution_count": 12,
   "id": "574780dc",
   "metadata": {},
   "outputs": [
    {
     "data": {
      "text/plain": [
       "'mahabharata story great battle kauravas pandavas battle fought kurukshetra near delhi many kings princes took part battle pandavas defeated kauravas bhagvad gita holy book hindus part mahabharata lord rama help book collection teachings lord krishna arjuna battlefield longest epic world'"
      ]
     },
     "execution_count": 12,
     "metadata": {},
     "output_type": "execute_result"
    }
   ],
   "source": [
    "clean_text = cleaning_text(data)\n",
    "clean_text"
   ]
  },
  {
   "cell_type": "code",
   "execution_count": 18,
   "id": "87f67b73",
   "metadata": {},
   "outputs": [
    {
     "name": "stderr",
     "output_type": "stream",
     "text": [
      "C:\\Users\\surus\\anaconda3\\Lib\\site-packages\\spacy\\util.py:910: UserWarning: [W095] Model 'en_core_web_md' (3.5.0) was trained with spaCy v3.5.0 and may not be 100% compatible with the current version (3.6.1). If you see errors or degraded performance, download a newer compatible model or retrain your custom model with the current spaCy version. For more details and available updates, run: python -m spacy validate\n",
      "  warnings.warn(warn_msg)\n"
     ]
    }
   ],
   "source": [
    "nlp = spacy.load(\"en_core_web_md\")"
   ]
  },
  {
   "cell_type": "code",
   "execution_count": 22,
   "id": "2234c032",
   "metadata": {},
   "outputs": [
    {
     "data": {
      "text/plain": [
       "mahabharata story great battle kauravas pandavas battle fought kurukshetra near delhi many kings princes took part battle pandavas defeated kauravas bhagvad gita holy book hindus part mahabharata lord rama help book collection teachings lord krishna arjuna battlefield longest epic world"
      ]
     },
     "execution_count": 22,
     "metadata": {},
     "output_type": "execute_result"
    }
   ],
   "source": [
    "doc1 = nlp(clean_text)\n",
    "doc1"
   ]
  },
  {
   "cell_type": "code",
   "execution_count": 23,
   "id": "b6912d4b",
   "metadata": {},
   "outputs": [
    {
     "data": {
      "text/plain": [
       "[('mahabharata', 'PROPN'),\n",
       " ('story', 'NOUN'),\n",
       " ('great', 'ADJ'),\n",
       " ('battle', 'NOUN'),\n",
       " ('kauravas', 'NOUN'),\n",
       " ('pandavas', 'PROPN'),\n",
       " ('battle', 'PROPN'),\n",
       " ('fought', 'VERB'),\n",
       " ('kurukshetra', 'PROPN'),\n",
       " ('near', 'ADP'),\n",
       " ('delhi', 'PROPN'),\n",
       " ('many', 'ADJ'),\n",
       " ('kings', 'NOUN'),\n",
       " ('princes', 'NOUN'),\n",
       " ('took', 'VERB'),\n",
       " ('part', 'NOUN'),\n",
       " ('battle', 'NOUN'),\n",
       " ('pandavas', 'PROPN'),\n",
       " ('defeated', 'VERB'),\n",
       " ('kauravas', 'PROPN'),\n",
       " ('bhagvad', 'PROPN'),\n",
       " ('gita', 'PROPN'),\n",
       " ('holy', 'PROPN'),\n",
       " ('book', 'PROPN'),\n",
       " ('hindus', 'PROPN'),\n",
       " ('part', 'PROPN'),\n",
       " ('mahabharata', 'PROPN'),\n",
       " ('lord', 'PROPN'),\n",
       " ('rama', 'PROPN'),\n",
       " ('help', 'AUX'),\n",
       " ('book', 'NOUN'),\n",
       " ('collection', 'NOUN'),\n",
       " ('teachings', 'NOUN'),\n",
       " ('lord', 'PROPN'),\n",
       " ('krishna', 'PROPN'),\n",
       " ('arjuna', 'PROPN'),\n",
       " ('battlefield', 'VERB'),\n",
       " ('longest', 'ADJ'),\n",
       " ('epic', 'ADJ'),\n",
       " ('world', 'NOUN')]"
      ]
     },
     "execution_count": 23,
     "metadata": {},
     "output_type": "execute_result"
    }
   ],
   "source": [
    "[(token.text,token.pos_) for token in doc1]"
   ]
  },
  {
   "cell_type": "code",
   "execution_count": 24,
   "id": "c92591f3",
   "metadata": {},
   "outputs": [
    {
     "data": {
      "text/plain": [
       "[('kurukshetra', 381),\n",
       " ('delhi', 384),\n",
       " ('kauravas bhagvad gita', 380),\n",
       " ('krishna arjuna battlefield', 380)]"
      ]
     },
     "execution_count": 24,
     "metadata": {},
     "output_type": "execute_result"
    }
   ],
   "source": [
    "# named entity\n",
    "[(token.text,token.label) for token in doc1.ents]"
   ]
  },
  {
   "cell_type": "markdown",
   "id": "2e3c2e24",
   "metadata": {},
   "source": [
    "#### without cleaning"
   ]
  },
  {
   "cell_type": "code",
   "execution_count": 25,
   "id": "e3179195",
   "metadata": {},
   "outputs": [],
   "source": [
    "doc = nlp(data)"
   ]
  },
  {
   "cell_type": "code",
   "execution_count": 26,
   "id": "47d60778",
   "metadata": {},
   "outputs": [
    {
     "data": {
      "text/plain": [
       "[('The', 'DET'),\n",
       " ('Mahabharata', 'PROPN'),\n",
       " ('is', 'AUX'),\n",
       " ('a', 'DET'),\n",
       " ('story', 'NOUN'),\n",
       " ('about', 'ADP'),\n",
       " ('a', 'DET'),\n",
       " ('great', 'ADJ'),\n",
       " ('battle', 'NOUN'),\n",
       " ('between', 'ADP'),\n",
       " ('the', 'DET'),\n",
       " ('Kauravas', 'PROPN'),\n",
       " ('and', 'CCONJ'),\n",
       " ('the', 'DET'),\n",
       " ('Pandavas', 'PROPN'),\n",
       " ('.', 'PUNCT'),\n",
       " ('\\n', 'SPACE'),\n",
       " ('The', 'DET'),\n",
       " ('battle', 'NOUN'),\n",
       " ('was', 'AUX'),\n",
       " ('fought', 'VERB'),\n",
       " ('in', 'ADP'),\n",
       " ('Kurukshetra', 'PROPN'),\n",
       " ('near', 'ADP'),\n",
       " ('Delhi', 'PROPN'),\n",
       " ('.', 'PUNCT'),\n",
       " ('\\n', 'SPACE'),\n",
       " ('Many', 'ADJ'),\n",
       " ('kings', 'NOUN'),\n",
       " ('and', 'CCONJ'),\n",
       " ('princes', 'NOUN'),\n",
       " ('took', 'VERB'),\n",
       " ('part', 'NOUN'),\n",
       " ('in', 'ADP'),\n",
       " ('the', 'DET'),\n",
       " ('battle', 'NOUN'),\n",
       " ('.', 'PUNCT'),\n",
       " ('\\n', 'SPACE'),\n",
       " ('The', 'DET'),\n",
       " ('Pandavas', 'PROPN'),\n",
       " ('defeated', 'VERB'),\n",
       " ('the', 'DET'),\n",
       " ('Kauravas', 'PROPN'),\n",
       " ('.', 'PUNCT'),\n",
       " ('\\n', 'SPACE'),\n",
       " ('The', 'DET'),\n",
       " ('Bhagvad', 'PROPN'),\n",
       " ('Gita', 'PROPN'),\n",
       " ('is', 'AUX'),\n",
       " ('a', 'DET'),\n",
       " ('holy', 'ADJ'),\n",
       " ('book', 'NOUN'),\n",
       " ('of', 'ADP'),\n",
       " ('the', 'DET'),\n",
       " ('Hindus', 'PROPN'),\n",
       " ('.', 'PUNCT'),\n",
       " ('\\n', 'SPACE'),\n",
       " ('It', 'PRON'),\n",
       " ('is', 'AUX'),\n",
       " ('a', 'DET'),\n",
       " ('part', 'NOUN'),\n",
       " ('of', 'ADP'),\n",
       " ('the', 'DET'),\n",
       " ('Mahabharata', 'PROPN'),\n",
       " ('.', 'PUNCT'),\n",
       " ('\\n', 'SPACE'),\n",
       " ('Then', 'ADV'),\n",
       " (',', 'PUNCT'),\n",
       " ('Lord', 'PROPN'),\n",
       " ('Rama', 'PROPN'),\n",
       " (',', 'PUNCT'),\n",
       " ('with', 'ADP'),\n",
       " ('the', 'DET'),\n",
       " ('help', 'NOUN'),\n",
       " ('of', 'ADP'),\n",
       " ('It', 'PRON'),\n",
       " ('is', 'AUX'),\n",
       " ('a', 'DET'),\n",
       " ('book', 'NOUN'),\n",
       " ('of', 'ADP'),\n",
       " ('collection', 'NOUN'),\n",
       " ('of', 'ADP'),\n",
       " ('teachings', 'NOUN'),\n",
       " ('of', 'ADP'),\n",
       " ('Lord', 'PROPN'),\n",
       " ('Krishna', 'PROPN'),\n",
       " ('to', 'ADP'),\n",
       " ('Arjuna', 'PROPN'),\n",
       " ('in', 'ADP'),\n",
       " ('the', 'DET'),\n",
       " ('battlefield', 'NOUN'),\n",
       " ('.', 'PUNCT'),\n",
       " ('\\n', 'SPACE'),\n",
       " ('It', 'PRON'),\n",
       " ('is', 'AUX'),\n",
       " ('the', 'DET'),\n",
       " ('longest', 'ADJ'),\n",
       " ('epic', 'NOUN'),\n",
       " ('in', 'ADP'),\n",
       " ('the', 'DET'),\n",
       " ('world', 'NOUN'),\n",
       " ('.', 'PUNCT')]"
      ]
     },
     "execution_count": 26,
     "metadata": {},
     "output_type": "execute_result"
    }
   ],
   "source": [
    "[(token.text,token.pos_) for token in doc]"
   ]
  },
  {
   "cell_type": "code",
   "execution_count": 27,
   "id": "0cee35cd",
   "metadata": {},
   "outputs": [
    {
     "data": {
      "text/plain": [
       "[('Mahabharata', 380),\n",
       " ('Kurukshetra', 381),\n",
       " ('Delhi', 384),\n",
       " ('The Bhagvad Gita', 380),\n",
       " ('Hindus', 381),\n",
       " ('Rama', 380),\n",
       " ('Krishna', 380),\n",
       " ('Arjuna', 380)]"
      ]
     },
     "execution_count": 27,
     "metadata": {},
     "output_type": "execute_result"
    }
   ],
   "source": [
    "# named entity\n",
    "[(token.text,token.label) for token in doc.ents]"
   ]
  },
  {
   "cell_type": "code",
   "execution_count": 31,
   "id": "9923b215",
   "metadata": {},
   "outputs": [],
   "source": [
    "spacy.explain(380)"
   ]
  },
  {
   "cell_type": "code",
   "execution_count": 32,
   "id": "3f27c973",
   "metadata": {},
   "outputs": [
    {
     "data": {
      "text/html": [
       "<span class=\"tex2jax_ignore\"><div class=\"entities\" style=\"line-height: 2.5; direction: ltr\">mahabharata story great battle kauravas pandavas battle fought \n",
       "<mark class=\"entity\" style=\"background: #c887fb; padding: 0.45em 0.6em; margin: 0 0.25em; line-height: 1; border-radius: 0.35em;\">\n",
       "    kurukshetra\n",
       "    <span style=\"font-size: 0.8em; font-weight: bold; line-height: 1; border-radius: 0.35em; vertical-align: middle; margin-left: 0.5rem\">NORP</span>\n",
       "</mark>\n",
       " near \n",
       "<mark class=\"entity\" style=\"background: #feca74; padding: 0.45em 0.6em; margin: 0 0.25em; line-height: 1; border-radius: 0.35em;\">\n",
       "    delhi\n",
       "    <span style=\"font-size: 0.8em; font-weight: bold; line-height: 1; border-radius: 0.35em; vertical-align: middle; margin-left: 0.5rem\">GPE</span>\n",
       "</mark>\n",
       " many kings princes took part battle pandavas defeated \n",
       "<mark class=\"entity\" style=\"background: #aa9cfc; padding: 0.45em 0.6em; margin: 0 0.25em; line-height: 1; border-radius: 0.35em;\">\n",
       "    kauravas bhagvad gita\n",
       "    <span style=\"font-size: 0.8em; font-weight: bold; line-height: 1; border-radius: 0.35em; vertical-align: middle; margin-left: 0.5rem\">PERSON</span>\n",
       "</mark>\n",
       " holy book hindus part mahabharata lord rama help book collection teachings lord \n",
       "<mark class=\"entity\" style=\"background: #aa9cfc; padding: 0.45em 0.6em; margin: 0 0.25em; line-height: 1; border-radius: 0.35em;\">\n",
       "    krishna arjuna battlefield\n",
       "    <span style=\"font-size: 0.8em; font-weight: bold; line-height: 1; border-radius: 0.35em; vertical-align: middle; margin-left: 0.5rem\">PERSON</span>\n",
       "</mark>\n",
       " longest epic world</div></span>"
      ],
      "text/plain": [
       "<IPython.core.display.HTML object>"
      ]
     },
     "metadata": {},
     "output_type": "display_data"
    }
   ],
   "source": [
    "from spacy import displacy\n",
    "displacy.render(doc1,style=\"ent\",jupyter=True)"
   ]
  },
  {
   "cell_type": "code",
   "execution_count": 34,
   "id": "0ad9f3fd",
   "metadata": {},
   "outputs": [
    {
     "data": {
      "text/html": [
       "<span class=\"tex2jax_ignore\"><div class=\"entities\" style=\"line-height: 2.5; direction: ltr\">The \n",
       "<mark class=\"entity\" style=\"background: #aa9cfc; padding: 0.45em 0.6em; margin: 0 0.25em; line-height: 1; border-radius: 0.35em;\">\n",
       "    Mahabharata\n",
       "    <span style=\"font-size: 0.8em; font-weight: bold; line-height: 1; border-radius: 0.35em; vertical-align: middle; margin-left: 0.5rem\">PERSON</span>\n",
       "</mark>\n",
       " is a story about a great battle between the Kauravas and the Pandavas.<br>The battle was fought in \n",
       "<mark class=\"entity\" style=\"background: #c887fb; padding: 0.45em 0.6em; margin: 0 0.25em; line-height: 1; border-radius: 0.35em;\">\n",
       "    Kurukshetra\n",
       "    <span style=\"font-size: 0.8em; font-weight: bold; line-height: 1; border-radius: 0.35em; vertical-align: middle; margin-left: 0.5rem\">NORP</span>\n",
       "</mark>\n",
       " near \n",
       "<mark class=\"entity\" style=\"background: #feca74; padding: 0.45em 0.6em; margin: 0 0.25em; line-height: 1; border-radius: 0.35em;\">\n",
       "    Delhi\n",
       "    <span style=\"font-size: 0.8em; font-weight: bold; line-height: 1; border-radius: 0.35em; vertical-align: middle; margin-left: 0.5rem\">GPE</span>\n",
       "</mark>\n",
       ". <br>Many kings and princes took part in the battle. <br>The Pandavas defeated the Kauravas.<br>\n",
       "<mark class=\"entity\" style=\"background: #aa9cfc; padding: 0.45em 0.6em; margin: 0 0.25em; line-height: 1; border-radius: 0.35em;\">\n",
       "    The Bhagvad Gita\n",
       "    <span style=\"font-size: 0.8em; font-weight: bold; line-height: 1; border-radius: 0.35em; vertical-align: middle; margin-left: 0.5rem\">PERSON</span>\n",
       "</mark>\n",
       " is a holy book of the \n",
       "<mark class=\"entity\" style=\"background: #c887fb; padding: 0.45em 0.6em; margin: 0 0.25em; line-height: 1; border-radius: 0.35em;\">\n",
       "    Hindus\n",
       "    <span style=\"font-size: 0.8em; font-weight: bold; line-height: 1; border-radius: 0.35em; vertical-align: middle; margin-left: 0.5rem\">NORP</span>\n",
       "</mark>\n",
       ".<br>It is a part of the Mahabharata. <br>Then, Lord \n",
       "<mark class=\"entity\" style=\"background: #aa9cfc; padding: 0.45em 0.6em; margin: 0 0.25em; line-height: 1; border-radius: 0.35em;\">\n",
       "    Rama\n",
       "    <span style=\"font-size: 0.8em; font-weight: bold; line-height: 1; border-radius: 0.35em; vertical-align: middle; margin-left: 0.5rem\">PERSON</span>\n",
       "</mark>\n",
       ", with the help of It is a book of collection of teachings of Lord \n",
       "<mark class=\"entity\" style=\"background: #aa9cfc; padding: 0.45em 0.6em; margin: 0 0.25em; line-height: 1; border-radius: 0.35em;\">\n",
       "    Krishna\n",
       "    <span style=\"font-size: 0.8em; font-weight: bold; line-height: 1; border-radius: 0.35em; vertical-align: middle; margin-left: 0.5rem\">PERSON</span>\n",
       "</mark>\n",
       " to \n",
       "<mark class=\"entity\" style=\"background: #aa9cfc; padding: 0.45em 0.6em; margin: 0 0.25em; line-height: 1; border-radius: 0.35em;\">\n",
       "    Arjuna\n",
       "    <span style=\"font-size: 0.8em; font-weight: bold; line-height: 1; border-radius: 0.35em; vertical-align: middle; margin-left: 0.5rem\">PERSON</span>\n",
       "</mark>\n",
       " in the battlefield.<br>It is the longest epic in the world.</div></span>"
      ],
      "text/plain": [
       "<IPython.core.display.HTML object>"
      ]
     },
     "metadata": {},
     "output_type": "display_data"
    }
   ],
   "source": [
    "from spacy import displacy\n",
    "displacy.render(doc,style=\"ent\",jupyter=True)"
   ]
  },
  {
   "cell_type": "code",
   "execution_count": 35,
   "id": "2c0ce0cf",
   "metadata": {},
   "outputs": [
    {
     "data": {
      "text/plain": [
       "('CARDINAL',\n",
       " 'DATE',\n",
       " 'EVENT',\n",
       " 'FAC',\n",
       " 'GPE',\n",
       " 'LANGUAGE',\n",
       " 'LAW',\n",
       " 'LOC',\n",
       " 'MONEY',\n",
       " 'NORP',\n",
       " 'ORDINAL',\n",
       " 'ORG',\n",
       " 'PERCENT',\n",
       " 'PERSON',\n",
       " 'PRODUCT',\n",
       " 'QUANTITY',\n",
       " 'TIME',\n",
       " 'WORK_OF_ART')"
      ]
     },
     "execution_count": 35,
     "metadata": {},
     "output_type": "execute_result"
    }
   ],
   "source": [
    "nlp.get_pipe(\"ner\").labels"
   ]
  },
  {
   "cell_type": "code",
   "execution_count": 38,
   "id": "676f42c7",
   "metadata": {},
   "outputs": [
    {
     "data": {
      "text/plain": [
       "array([-1.7952e+00,  8.8564e-01,  1.2995e+00,  5.3467e+00,  2.3356e+00,\n",
       "        6.3150e-01,  3.2695e+00,  5.3845e+00, -4.7579e+00, -1.1556e+00,\n",
       "        7.7207e+00,  1.7057e+00, -5.1134e+00,  5.7279e+00, -6.4964e-01,\n",
       "        2.5735e+00,  4.0722e+00,  2.7346e+00, -3.6327e-01,  3.1659e-01,\n",
       "        1.6892e+00,  4.0048e+00,  2.5983e-02,  1.4939e+00, -3.3041e+00,\n",
       "       -1.4575e+00, -1.2547e+00, -4.5687e+00,  1.5173e+00,  6.8314e-01,\n",
       "        5.7678e-01, -2.0256e+00,  9.1923e-01,  2.8375e+00,  1.7972e+00,\n",
       "       -3.1808e-01,  5.2218e+00,  1.3707e+00,  3.3360e+00,  4.5912e+00,\n",
       "       -1.0869e+00, -2.5762e+00,  4.5750e+00,  5.6772e-01,  9.5806e-01,\n",
       "        7.2935e-01, -5.6902e-01,  8.2880e-01,  6.3900e-01, -4.3184e+00,\n",
       "        2.8204e+00,  6.8541e-01,  3.3632e+00, -3.3472e+00, -4.6527e-01,\n",
       "        2.1472e+00,  1.3270e+00,  8.0798e-01,  9.7008e-01,  2.0223e+00,\n",
       "        4.2663e+00,  2.2851e+00, -3.5020e+00, -3.2424e+00, -1.6429e+00,\n",
       "        8.8501e-01, -3.4272e+00, -4.5300e+00, -2.9577e+00, -6.5071e-01,\n",
       "       -3.8199e+00,  2.3795e+00,  3.0239e-01,  2.9792e+00,  3.2579e+00,\n",
       "       -2.2986e+00, -4.5925e+00,  3.3084e+00,  1.0260e+00, -5.0946e+00,\n",
       "       -1.5199e+00, -4.6278e+00,  4.0935e+00,  3.2023e-01, -1.1599e+00,\n",
       "       -2.6480e+00,  2.4891e+00,  1.5280e-01,  1.6822e-01,  3.2271e+00,\n",
       "       -4.4962e+00,  1.8156e+00,  3.0824e+00, -2.2028e+00,  1.2574e-01,\n",
       "       -1.8436e+00,  2.7399e+00,  7.4424e-01, -3.7772e-01, -1.3878e+00,\n",
       "        8.4665e-01,  5.5769e-01,  2.4677e+00,  1.3583e+00, -7.9974e-01,\n",
       "        1.7874e+00, -4.8535e+00,  1.9315e+00,  1.2082e+00, -7.4699e-01,\n",
       "       -5.8587e-01, -1.5801e+00, -5.3986e-02, -1.2963e+00, -1.7457e+00,\n",
       "        2.0536e+00, -2.1746e-01,  1.5499e+00,  2.9841e+00, -2.2683e+00,\n",
       "       -5.3626e+00, -4.2623e-01, -3.0129e+00,  3.1728e+00,  1.9124e+00,\n",
       "       -3.7205e+00, -1.4759e+00, -4.2901e+00,  2.2570e+00, -8.1175e-01,\n",
       "       -1.1640e-01,  5.9462e+00,  3.7747e+00,  1.4917e+00, -9.4726e-01,\n",
       "       -2.0607e+00, -1.0229e-01, -3.3825e+00,  1.3389e+00,  1.3387e+00,\n",
       "        1.6469e+00, -6.1247e-01,  1.1775e+00, -3.5345e+00,  4.1400e-01,\n",
       "        9.3115e-01, -1.7429e+00, -1.6434e-01,  4.8978e+00,  3.3106e+00,\n",
       "       -1.5536e-01, -1.2178e+00, -8.5938e-01, -1.0153e+00,  1.9123e+00,\n",
       "        5.9735e-01,  1.3499e+00, -7.0636e-01, -2.1573e+00, -1.5571e-01,\n",
       "       -3.0438e-01,  2.6284e+00,  1.0096e-01, -1.4259e+00, -4.3792e-01,\n",
       "       -3.8243e+00, -3.5271e+00,  1.5635e+00,  6.2065e-01,  6.2191e-01,\n",
       "       -3.1837e+00, -9.5202e-01,  7.2555e-02,  4.0671e+00,  3.6058e+00,\n",
       "        1.2436e+00, -2.8262e-01, -2.2365e+00, -8.6073e-01,  1.0203e+00,\n",
       "       -4.1634e+00,  2.0749e+00,  1.3505e+00, -4.0913e+00, -3.4022e+00,\n",
       "        3.5524e-01, -1.6640e+00, -3.8793e+00,  1.3616e-01,  1.4335e+00,\n",
       "        8.4189e-01, -1.0320e+00, -7.9645e-01, -7.6461e-01,  1.5565e+00,\n",
       "        3.4464e+00, -1.1882e-01,  2.1609e+00,  3.5348e+00, -1.4421e+00,\n",
       "       -5.2897e+00, -1.0661e+00,  2.9075e+00,  6.5294e-02, -1.3441e-01,\n",
       "        1.1253e+00, -7.7875e+00,  1.2397e+00, -8.6289e-01, -1.7991e+00,\n",
       "        3.6441e-01,  3.0479e+00,  5.7373e-01,  3.7014e+00,  6.6093e-01,\n",
       "        5.3210e-02,  3.8343e+00,  4.0465e+00, -3.1402e+00, -1.5219e+00,\n",
       "       -1.5991e+00, -2.4561e+00, -1.4998e+00,  4.5025e-01, -2.6686e-01,\n",
       "       -4.4447e+00,  2.3119e+00,  2.7613e+00,  2.0220e+00,  3.7299e-01,\n",
       "        5.1974e-01, -3.1720e+00, -1.8924e+00,  1.0928e+00,  2.4135e+00,\n",
       "        6.6694e-02, -1.4450e+00, -2.5509e+00,  9.6270e-02,  1.4605e+00,\n",
       "       -1.3476e+00, -5.8765e+00,  1.2693e+00, -1.0335e+00, -4.3344e-01,\n",
       "       -2.0125e+00,  4.5884e-01,  3.1575e+00, -3.9026e-01,  2.7699e+00,\n",
       "        2.8420e-01,  1.1078e+00, -3.0683e+00, -3.2904e+00, -4.0174e+00,\n",
       "       -1.2048e+00,  3.4119e+00, -1.8310e+00, -1.4422e+00, -1.6631e+00,\n",
       "       -6.5554e-01,  7.7366e+00,  2.5574e+00, -3.0294e+00, -2.3087e-01,\n",
       "       -2.0982e+00,  3.3902e-01,  1.4536e+00,  4.1596e-01,  3.1909e+00,\n",
       "        5.5535e+00, -5.2227e+00, -7.9742e-01, -9.9169e-02,  1.6499e+00,\n",
       "       -7.2388e-01,  5.6872e-01, -7.2169e-01, -8.2783e-01, -1.0297e+00,\n",
       "        1.2150e+00, -2.2382e+00,  3.2409e+00,  2.4778e+00,  2.2881e-01,\n",
       "       -5.2276e-03, -2.8341e+00,  1.8243e+00, -1.5990e+00,  9.2540e-01,\n",
       "        9.6618e-01,  4.9897e-03,  4.7298e-01,  3.9805e-01, -3.8508e+00,\n",
       "       -4.8591e-02, -7.3362e-02,  1.3136e-01,  2.4344e+00,  3.8248e-01],\n",
       "      dtype=float32)"
      ]
     },
     "execution_count": 38,
     "metadata": {},
     "output_type": "execute_result"
    }
   ],
   "source": [
    "vect1 = nlp(\"machine\")\n",
    "vect1.vector"
   ]
  },
  {
   "cell_type": "code",
   "execution_count": 39,
   "id": "5e8d65b3",
   "metadata": {},
   "outputs": [
    {
     "data": {
      "text/plain": [
       "array([  8.433   ,  -0.62196 ,   4.5699  ,   4.2771  ,   7.5471  ,\n",
       "        -3.4932  ,  -2.7744  ,  11.539   ,  -0.41976 ,  -5.7145  ,\n",
       "        13.106   ,   5.9285  ,  -5.0834  ,   2.0165  ,  -1.3187  ,\n",
       "        -3.1088  ,   8.6808  ,  -0.37767 , -12.834   ,  -7.7306  ,\n",
       "        -1.3145  ,   0.19578 , -12.683   ,  -4.448   , -12.181   ,\n",
       "        -6.8301  ,   3.1909  ,  -4.2021  ,  -1.1167  ,   5.6552  ,\n",
       "         4.5593  ,   1.1842  ,  -8.839   ,   5.1291  ,   8.8025  ,\n",
       "        -7.7602  ,  -7.9684  ,  -7.8937  ,  10.286   ,   5.7079  ,\n",
       "         3.1926  ,  -0.52753 ,  -2.0976  ,   6.7266  ,  -5.971   ,\n",
       "        -0.52903 ,   8.3433  ,  -1.7521  ,   4.4892  ,  -2.456   ,\n",
       "         5.7153  ,  -0.29028 ,  -2.1078  ,  -4.7923  ,  -2.8459  ,\n",
       "         2.5139  ,  -7.3703  ,   0.25596 ,   5.1344  , -12.615   ,\n",
       "         5.0602  ,   6.3371  ,  -6.1839  ,   0.71782 ,   5.8044  ,\n",
       "         4.7112  ,   0.20968 ,  -3.2077  ,  -0.62559 ,   0.22191 ,\n",
       "         2.8759  ,   5.6576  ,  -4.5906  ,   5.0782  ,  -4.0207  ,\n",
       "         2.1161  ,   1.1608  ,  -0.98217 ,  -3.0099  ,  -4.3483  ,\n",
       "        -3.1446  ,   0.84766 ,   1.8647  ,   3.0901  ,   4.6203  ,\n",
       "        -3.0004  ,  -0.85704 ,  -5.1906  ,  10.277   ,  -3.6286  ,\n",
       "        -5.7289  ,   6.3868  ,   3.8284  ,  -1.4642  ,  -4.3758  ,\n",
       "        -1.4041  ,   1.4546  ,  -0.60059 ,  -0.97276 ,   1.7021  ,\n",
       "         2.4357  ,  -0.03073 ,  -2.2956  ,  -3.2183  ,   0.15623 ,\n",
       "         7.0984  ,   0.12684 ,  -3.8298  ,   0.53441 ,   1.1493  ,\n",
       "         6.4126  ,   4.8323  ,  -0.094176,   1.9462  ,   4.7889  ,\n",
       "         0.67953 ,  -8.7185  ,   1.0232  ,  -6.4934  ,  -6.6018  ,\n",
       "        -6.4868  ,  -1.3891  ,   0.60352 ,  -1.9618  ,  -0.83308 ,\n",
       "        -3.1635  ,   2.0983  ,  -2.6888  ,   2.5529  ,  -4.9758  ,\n",
       "         0.55982 ,   2.3738  ,  -2.209   ,   1.207   ,   2.2095  ,\n",
       "         4.4969  ,  -6.5407  ,   0.20055 ,   3.2746  ,  -2.978   ,\n",
       "        -4.1244  ,  -2.7862  ,   0.71469 ,   1.871   ,   2.8257  ,\n",
       "         3.665   ,   2.7051  ,   6.5865  ,  -4.0485  ,  13.891   ,\n",
       "       -10.094   ,   7.6961  ,   3.9371  ,   4.3329  ,   5.7443  ,\n",
       "        -2.7688  ,   2.6549  ,   7.1357  ,  -0.91995 ,  -3.7897  ,\n",
       "        -2.269   ,  -0.32706 ,   1.1645  ,   7.8238  ,  -4.0648  ,\n",
       "        -1.5901  ,  -2.4371  ,   4.4673  ,  -0.03972 , -11.881   ,\n",
       "       -12.262   ,  -3.1402  ,   0.20803 ,  -0.63618 ,  17.097   ,\n",
       "         4.5217  ,  -1.2882  ,  -3.4139  ,   1.2379  ,  -6.8088  ,\n",
       "         4.0803  ,   5.2487  ,   2.3712  ,  -9.4767  ,   1.3788  ,\n",
       "        -0.70852 ,  -5.7741  ,  -3.1941  ,   5.0739  ,  -1.0391  ,\n",
       "         4.5978  ,  -0.87431 ,  -0.7292  ,  -4.7764  ,   2.4639  ,\n",
       "        11.421   , -12.604   ,   2.7578  ,   0.45109 ,  -0.44204 ,\n",
       "        -6.4576  ,  -7.993   ,   3.0739  ,  -1.5658  ,  15.768   ,\n",
       "         4.377   ,  -3.5032  ,  -5.8835  ,   5.3726  ,  -0.48193 ,\n",
       "         0.89183 ,  -1.4306  ,   2.4475  ,   6.7812  ,   5.7412  ,\n",
       "         2.988   ,  11.668   ,  -8.2028  ,  -4.0986  ,   3.8376  ,\n",
       "         0.20099 ,   1.5494  ,  -4.7032  ,  -1.3643  ,   7.3142  ,\n",
       "        -9.5133  ,   5.4749  ,   0.43895 ,   2.405   ,  -6.0876  ,\n",
       "         4.2026  ,  -8.6914  ,  -4.7631  ,   6.0201  ,   4.0167  ,\n",
       "         1.1332  ,  13.218   ,  -4.2672  ,  11.077   ,   1.6958  ,\n",
       "        -8.4125  ,  -2.4895  ,  -2.8994  ,   4.3663  ,  -2.147   ,\n",
       "         2.4737  ,  -4.8413  ,   7.8004  ,  -1.1266  ,  -0.61805 ,\n",
       "         3.4348  ,  -2.6864  ,  -7.3901  , -10.186   ,   1.0281  ,\n",
       "        -1.7216  ,   7.3696  ,  -3.9895  ,   3.0035  ,   4.8118  ,\n",
       "        -2.8967  ,  14.909   ,  -1.1002  ,  -3.6253  ,   4.3881  ,\n",
       "         0.38806 ,  -0.34066 ,   8.0022  ,  -5.9174  ,  -8.3849  ,\n",
       "        -0.44124 ,  -0.92531 ,   2.9864  ,   1.8466  ,  -2.0044  ,\n",
       "        -2.7273  ,   0.2723  ,  -1.7172  ,  -2.0582  ,   5.6129  ,\n",
       "         6.0383  ,   4.9308  ,   4.895   ,  -2.3096  ,   2.9366  ,\n",
       "        -7.4218  ,  -2.0618  ,  -1.1766  ,  -7.5635  ,  -0.69364 ,\n",
       "         2.3743  ,   0.99954 ,   6.5449  ,   3.7741  ,   0.91835 ,\n",
       "         5.4069  ,   6.4281  ,  -9.2167  ,   6.6996  ,  10.385   ],\n",
       "      dtype=float32)"
      ]
     },
     "execution_count": 39,
     "metadata": {},
     "output_type": "execute_result"
    }
   ],
   "source": [
    "vect1 = nlp(\"data\")\n",
    "vect1.vector"
   ]
  },
  {
   "cell_type": "code",
   "execution_count": 48,
   "id": "c2465024",
   "metadata": {},
   "outputs": [
    {
     "name": "stdout",
     "output_type": "stream",
     "text": [
      "Basketball and Football 388\n"
     ]
    }
   ],
   "source": [
    "text1 = \"Rakesh plays Basketball and Football\"\n",
    "doc2 = nlp(text1)\n",
    "for ent in doc2.ents:\n",
    "    print(ent.text,ent.label)"
   ]
  },
  {
   "cell_type": "code",
   "execution_count": 49,
   "id": "63396e4c",
   "metadata": {},
   "outputs": [
    {
     "name": "stderr",
     "output_type": "stream",
     "text": [
      "C:\\Users\\surus\\anaconda3\\Lib\\site-packages\\spacy\\glossary.py:20: UserWarning: [W118] Term 'Basketball' not found in glossary. It may however be explained in documentation for the corpora used to train the language. Please check `nlp.meta[\"sources\"]` for any relevant links.\n",
      "  \n"
     ]
    }
   ],
   "source": [
    "spacy.explain(\"Basketball\")"
   ]
  },
  {
   "cell_type": "code",
   "execution_count": 52,
   "id": "d0fb1548",
   "metadata": {},
   "outputs": [
    {
     "name": "stderr",
     "output_type": "stream",
     "text": [
      "C:\\Users\\surus\\anaconda3\\Lib\\site-packages\\spacy\\util.py:910: UserWarning: [W095] Model 'en_core_web_md' (3.5.0) was trained with spaCy v3.5.0 and may not be 100% compatible with the current version (3.6.1). If you see errors or degraded performance, download a newer compatible model or retrain your custom model with the current spaCy version. For more details and available updates, run: python -m spacy validate\n",
      "  warnings.warn(warn_msg)\n"
     ]
    },
    {
     "name": "stdout",
     "output_type": "stream",
     "text": [
      "Rakesh Person\n",
      "Basketball SPORT\n",
      "Football SPORT\n"
     ]
    }
   ],
   "source": [
    "nlp2 = spacy.load(\"en_core_web_md\",disable= [\"ner\"])\n",
    "ruler = nlp2.add_pipe(\"entity_ruler\")\n",
    "patterns = [{\"label\":\"SPORT\",\"pattern\":\"Basketball\"},{\"label\":\"SPORT\",\"pattern\":\"Football\"},{\"label\":\"Person\",\"pattern\":\"Rakesh\"}]\n",
    "ruler.add_patterns(patterns)\n",
    "text1 = \"Rakesh plays Basketball and Football\"\n",
    "doc2 = nlp2(text1)\n",
    "for ent in doc2.ents:\n",
    "    print(ent.text,ent.label_)"
   ]
  },
  {
   "cell_type": "code",
   "execution_count": null,
   "id": "e3c031fe",
   "metadata": {},
   "outputs": [],
   "source": []
  }
 ],
 "metadata": {
  "kernelspec": {
   "display_name": "Python 3 (ipykernel)",
   "language": "python",
   "name": "python3"
  },
  "language_info": {
   "codemirror_mode": {
    "name": "ipython",
    "version": 3
   },
   "file_extension": ".py",
   "mimetype": "text/x-python",
   "name": "python",
   "nbconvert_exporter": "python",
   "pygments_lexer": "ipython3",
   "version": "3.11.4"
  }
 },
 "nbformat": 4,
 "nbformat_minor": 5
}
