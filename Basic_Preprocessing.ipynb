{
 "cells": [
  {
   "cell_type": "code",
   "execution_count": 1,
   "id": "c1cd2c9e",
   "metadata": {},
   "outputs": [],
   "source": [
    "import nltk\n",
    "from nltk.tokenize import word_tokenize,sent_tokenize,WhitespaceTokenizer\n",
    "from nltk.stem import WordNetLemmatizer, LancasterStemmer\n",
    "from nltk.corpus import stopwords\n",
    "from string import punctuation\n",
    "import contractions\n",
    "from unidecode import unidecode"
   ]
  },
  {
   "cell_type": "code",
   "execution_count": 3,
   "id": "805a7340",
   "metadata": {},
   "outputs": [],
   "source": [
    "Data = \"\"\"Natural Language Processing is a subfield of artificial intelligence that enables computers to understand human language.\n",
    "NLP allows computers to perform repetitive tasks such as machine translation, summarization, ticket classification, and spell check. \n",
    "NLP has existed for over 50 years and has roots in linguistics.\n",
    "NLP is used in many applications, including: Chatbots, Virtual assistants, Sentiment analysis, Sentence autocompletion, Text summarization.\n",
    "NLP is a dynamic and rapidly evolving field. It involves the interaction between humans and computers through natural language.\"\"\""
   ]
  },
  {
   "cell_type": "code",
   "execution_count": 5,
   "id": "967940d7",
   "metadata": {},
   "outputs": [
    {
     "data": {
      "text/plain": [
       "'Natural Language Processing is a subfield of artificial intelligence that enables computers to understand human language.'"
      ]
     },
     "execution_count": 5,
     "metadata": {},
     "output_type": "execute_result"
    }
   ],
   "source": [
    "# sentence tokenization\n",
    "sent = sent_tokenize(Data)\n",
    "sent[0]"
   ]
  },
  {
   "cell_type": "code",
   "execution_count": 10,
   "id": "8326433c",
   "metadata": {},
   "outputs": [
    {
     "name": "stderr",
     "output_type": "stream",
     "text": [
      "[nltk_data] Downloading package punkt to\n",
      "[nltk_data]     C:\\Users\\surus\\AppData\\Roaming\\nltk_data...\n",
      "[nltk_data]   Unzipping tokenizers\\punkt.zip.\n"
     ]
    },
    {
     "data": {
      "text/plain": [
       "True"
      ]
     },
     "execution_count": 10,
     "metadata": {},
     "output_type": "execute_result"
    }
   ],
   "source": [
    "import nltk\n",
    "nltk.download('punkt')"
   ]
  },
  {
   "cell_type": "code",
   "execution_count": 8,
   "id": "38fcbc14",
   "metadata": {},
   "outputs": [
    {
     "data": {
      "text/plain": [
       "['Natural',\n",
       " 'Language',\n",
       " 'Processing',\n",
       " 'is',\n",
       " 'a',\n",
       " 'subfield',\n",
       " 'of',\n",
       " 'artificial',\n",
       " 'intelligence',\n",
       " 'that',\n",
       " 'enables',\n",
       " 'computers',\n",
       " 'to',\n",
       " 'understand',\n",
       " 'human',\n",
       " 'language',\n",
       " '.',\n",
       " 'NLP',\n",
       " 'allows',\n",
       " 'computers',\n",
       " 'to',\n",
       " 'perform',\n",
       " 'repetitive',\n",
       " 'tasks',\n",
       " 'such',\n",
       " 'as',\n",
       " 'machine',\n",
       " 'translation',\n",
       " ',',\n",
       " 'summarization',\n",
       " ',',\n",
       " 'ticket',\n",
       " 'classification',\n",
       " ',',\n",
       " 'and',\n",
       " 'spell',\n",
       " 'check',\n",
       " '.',\n",
       " 'NLP',\n",
       " 'has',\n",
       " 'existed',\n",
       " 'for',\n",
       " 'over',\n",
       " '50',\n",
       " 'years',\n",
       " 'and',\n",
       " 'has',\n",
       " 'roots',\n",
       " 'in',\n",
       " 'linguistics',\n",
       " '.',\n",
       " 'NLP',\n",
       " 'is',\n",
       " 'used',\n",
       " 'in',\n",
       " 'many',\n",
       " 'applications',\n",
       " ',',\n",
       " 'including',\n",
       " ':',\n",
       " 'Chatbots',\n",
       " ',',\n",
       " 'Virtual',\n",
       " 'assistants',\n",
       " ',',\n",
       " 'Sentiment',\n",
       " 'analysis',\n",
       " ',',\n",
       " 'Sentence',\n",
       " 'autocompletion',\n",
       " ',',\n",
       " 'Text',\n",
       " 'summarization',\n",
       " '.',\n",
       " 'NLP',\n",
       " 'is',\n",
       " 'a',\n",
       " 'dynamic',\n",
       " 'and',\n",
       " 'rapidly',\n",
       " 'evolving',\n",
       " 'field',\n",
       " '.',\n",
       " 'It',\n",
       " 'involves',\n",
       " 'the',\n",
       " 'interaction',\n",
       " 'between',\n",
       " 'humans',\n",
       " 'and',\n",
       " 'computers',\n",
       " 'through',\n",
       " 'natural',\n",
       " 'language',\n",
       " '.']"
      ]
     },
     "execution_count": 8,
     "metadata": {},
     "output_type": "execute_result"
    }
   ],
   "source": [
    "# word tokenization\n",
    "word = word_tokenize(Data)\n",
    "word"
   ]
  },
  {
   "cell_type": "code",
   "execution_count": 9,
   "id": "52888c4b",
   "metadata": {},
   "outputs": [
    {
     "data": {
      "text/plain": [
       "['Natural',\n",
       " 'Language',\n",
       " 'Processing',\n",
       " 'is',\n",
       " 'a',\n",
       " 'subfield',\n",
       " 'of',\n",
       " 'artificial',\n",
       " 'intelligence',\n",
       " 'that',\n",
       " 'enables',\n",
       " 'computers',\n",
       " 'to',\n",
       " 'understand',\n",
       " 'human',\n",
       " 'language.',\n",
       " 'NLP',\n",
       " 'allows',\n",
       " 'computers',\n",
       " 'to',\n",
       " 'perform',\n",
       " 'repetitive',\n",
       " 'tasks',\n",
       " 'such',\n",
       " 'as',\n",
       " 'machine',\n",
       " 'translation,',\n",
       " 'summarization,',\n",
       " 'ticket',\n",
       " 'classification,',\n",
       " 'and',\n",
       " 'spell',\n",
       " 'check.',\n",
       " 'NLP',\n",
       " 'has',\n",
       " 'existed',\n",
       " 'for',\n",
       " 'over',\n",
       " '50',\n",
       " 'years',\n",
       " 'and',\n",
       " 'has',\n",
       " 'roots',\n",
       " 'in',\n",
       " 'linguistics.',\n",
       " 'NLP',\n",
       " 'is',\n",
       " 'used',\n",
       " 'in',\n",
       " 'many',\n",
       " 'applications,',\n",
       " 'including:',\n",
       " 'Chatbots,',\n",
       " 'Virtual',\n",
       " 'assistants,',\n",
       " 'Sentiment',\n",
       " 'analysis,',\n",
       " 'Sentence',\n",
       " 'autocompletion,',\n",
       " 'Text',\n",
       " 'summarization.',\n",
       " 'NLP',\n",
       " 'is',\n",
       " 'a',\n",
       " 'dynamic',\n",
       " 'and',\n",
       " 'rapidly',\n",
       " 'evolving',\n",
       " 'field.',\n",
       " 'It',\n",
       " 'involves',\n",
       " 'the',\n",
       " 'interaction',\n",
       " 'between',\n",
       " 'humans',\n",
       " 'and',\n",
       " 'computers',\n",
       " 'through',\n",
       " 'natural',\n",
       " 'language.']"
      ]
     },
     "execution_count": 9,
     "metadata": {},
     "output_type": "execute_result"
    }
   ],
   "source": [
    "# white space tokenization\n",
    "wt_space = WhitespaceTokenizer().tokenize(Data)\n",
    "wt_space"
   ]
  },
  {
   "cell_type": "code",
   "execution_count": 10,
   "id": "11c13b3c",
   "metadata": {},
   "outputs": [
    {
     "data": {
      "text/plain": [
       "['natural',\n",
       " 'language',\n",
       " 'processing',\n",
       " 'is',\n",
       " 'a',\n",
       " 'subfield',\n",
       " 'of',\n",
       " 'artificial',\n",
       " 'intelligence',\n",
       " 'that',\n",
       " 'enables',\n",
       " 'computers',\n",
       " 'to',\n",
       " 'understand',\n",
       " 'human',\n",
       " 'language',\n",
       " '.',\n",
       " 'nlp',\n",
       " 'allows',\n",
       " 'computers',\n",
       " 'to',\n",
       " 'perform',\n",
       " 'repetitive',\n",
       " 'tasks',\n",
       " 'such',\n",
       " 'as',\n",
       " 'machine',\n",
       " 'translation',\n",
       " ',',\n",
       " 'summarization',\n",
       " ',',\n",
       " 'ticket',\n",
       " 'classification',\n",
       " ',',\n",
       " 'and',\n",
       " 'spell',\n",
       " 'check',\n",
       " '.',\n",
       " 'nlp',\n",
       " 'has',\n",
       " 'existed',\n",
       " 'for',\n",
       " 'over',\n",
       " '50',\n",
       " 'years',\n",
       " 'and',\n",
       " 'has',\n",
       " 'roots',\n",
       " 'in',\n",
       " 'linguistics',\n",
       " '.',\n",
       " 'nlp',\n",
       " 'is',\n",
       " 'used',\n",
       " 'in',\n",
       " 'many',\n",
       " 'applications',\n",
       " ',',\n",
       " 'including',\n",
       " ':',\n",
       " 'chatbots',\n",
       " ',',\n",
       " 'virtual',\n",
       " 'assistants',\n",
       " ',',\n",
       " 'sentiment',\n",
       " 'analysis',\n",
       " ',',\n",
       " 'sentence',\n",
       " 'autocompletion',\n",
       " ',',\n",
       " 'text',\n",
       " 'summarization',\n",
       " '.',\n",
       " 'nlp',\n",
       " 'is',\n",
       " 'a',\n",
       " 'dynamic',\n",
       " 'and',\n",
       " 'rapidly',\n",
       " 'evolving',\n",
       " 'field',\n",
       " '.',\n",
       " 'it',\n",
       " 'involves',\n",
       " 'the',\n",
       " 'interaction',\n",
       " 'between',\n",
       " 'humans',\n",
       " 'and',\n",
       " 'computers',\n",
       " 'through',\n",
       " 'natural',\n",
       " 'language',\n",
       " '.']"
      ]
     },
     "execution_count": 10,
     "metadata": {},
     "output_type": "execute_result"
    }
   ],
   "source": [
    "# normalization\n",
    "lower_text = [word.lower()for word in word]\n",
    "lower_text"
   ]
  },
  {
   "cell_type": "code",
   "execution_count": 11,
   "id": "c98527b3",
   "metadata": {},
   "outputs": [
    {
     "data": {
      "text/plain": [
       "'!\"#$%&\\'()*+,-./:;<=>?@[\\\\]^_`{|}~'"
      ]
     },
     "execution_count": 11,
     "metadata": {},
     "output_type": "execute_result"
    }
   ],
   "source": [
    "# removing punctuations\n",
    "punctuation"
   ]
  },
  {
   "cell_type": "code",
   "execution_count": 13,
   "id": "0488d1a4",
   "metadata": {},
   "outputs": [
    {
     "data": {
      "text/plain": [
       "['natural',\n",
       " 'language',\n",
       " 'processing',\n",
       " 'is',\n",
       " 'a',\n",
       " 'subfield',\n",
       " 'of',\n",
       " 'artificial',\n",
       " 'intelligence',\n",
       " 'that',\n",
       " 'enables',\n",
       " 'computers',\n",
       " 'to',\n",
       " 'understand',\n",
       " 'human',\n",
       " 'language',\n",
       " 'nlp',\n",
       " 'allows',\n",
       " 'computers',\n",
       " 'to',\n",
       " 'perform',\n",
       " 'repetitive',\n",
       " 'tasks',\n",
       " 'such',\n",
       " 'as',\n",
       " 'machine',\n",
       " 'translation',\n",
       " 'summarization',\n",
       " 'ticket',\n",
       " 'classification',\n",
       " 'and',\n",
       " 'spell',\n",
       " 'check',\n",
       " 'nlp',\n",
       " 'has',\n",
       " 'existed',\n",
       " 'for',\n",
       " 'over',\n",
       " '50',\n",
       " 'years',\n",
       " 'and',\n",
       " 'has',\n",
       " 'roots',\n",
       " 'in',\n",
       " 'linguistics',\n",
       " 'nlp',\n",
       " 'is',\n",
       " 'used',\n",
       " 'in',\n",
       " 'many',\n",
       " 'applications',\n",
       " 'including',\n",
       " 'chatbots',\n",
       " 'virtual',\n",
       " 'assistants',\n",
       " 'sentiment',\n",
       " 'analysis',\n",
       " 'sentence',\n",
       " 'autocompletion',\n",
       " 'text',\n",
       " 'summarization',\n",
       " 'nlp',\n",
       " 'is',\n",
       " 'a',\n",
       " 'dynamic',\n",
       " 'and',\n",
       " 'rapidly',\n",
       " 'evolving',\n",
       " 'field',\n",
       " 'it',\n",
       " 'involves',\n",
       " 'the',\n",
       " 'interaction',\n",
       " 'between',\n",
       " 'humans',\n",
       " 'and',\n",
       " 'computers',\n",
       " 'through',\n",
       " 'natural',\n",
       " 'language']"
      ]
     },
     "execution_count": 13,
     "metadata": {},
     "output_type": "execute_result"
    }
   ],
   "source": [
    "text_without_punctuations = [word for word in lower_text if word not in punctuation]\n",
    "text_without_punctuations"
   ]
  },
  {
   "cell_type": "code",
   "execution_count": 15,
   "id": "2d6b947e",
   "metadata": {},
   "outputs": [
    {
     "data": {
      "text/plain": [
       "['natural',\n",
       " 'language',\n",
       " 'processing',\n",
       " 'is',\n",
       " 'a',\n",
       " 'subfield',\n",
       " 'of',\n",
       " 'artificial',\n",
       " 'intelligence',\n",
       " 'that',\n",
       " 'enables',\n",
       " 'computers',\n",
       " 'to',\n",
       " 'understand',\n",
       " 'human']"
      ]
     },
     "execution_count": 15,
     "metadata": {},
     "output_type": "execute_result"
    }
   ],
   "source": [
    "text_without_punctuations[:15]"
   ]
  },
  {
   "cell_type": "code",
   "execution_count": 19,
   "id": "8728c2a8",
   "metadata": {},
   "outputs": [
    {
     "name": "stderr",
     "output_type": "stream",
     "text": [
      "[nltk_data] Downloading package stopwords to\n",
      "[nltk_data]     C:\\Users\\surus\\AppData\\Roaming\\nltk_data...\n",
      "[nltk_data]   Unzipping corpora\\stopwords.zip.\n"
     ]
    },
    {
     "data": {
      "text/plain": [
       "True"
      ]
     },
     "execution_count": 19,
     "metadata": {},
     "output_type": "execute_result"
    }
   ],
   "source": [
    "nltk.download('stopwords')"
   ]
  },
  {
   "cell_type": "code",
   "execution_count": 16,
   "id": "b00f44ef",
   "metadata": {},
   "outputs": [
    {
     "data": {
      "text/plain": [
       "['i',\n",
       " 'me',\n",
       " 'my',\n",
       " 'myself',\n",
       " 'we',\n",
       " 'our',\n",
       " 'ours',\n",
       " 'ourselves',\n",
       " 'you',\n",
       " \"you're\",\n",
       " \"you've\",\n",
       " \"you'll\",\n",
       " \"you'd\",\n",
       " 'your',\n",
       " 'yours',\n",
       " 'yourself',\n",
       " 'yourselves',\n",
       " 'he',\n",
       " 'him',\n",
       " 'his',\n",
       " 'himself',\n",
       " 'she',\n",
       " \"she's\",\n",
       " 'her',\n",
       " 'hers',\n",
       " 'herself',\n",
       " 'it',\n",
       " \"it's\",\n",
       " 'its',\n",
       " 'itself',\n",
       " 'they',\n",
       " 'them',\n",
       " 'their',\n",
       " 'theirs',\n",
       " 'themselves',\n",
       " 'what',\n",
       " 'which',\n",
       " 'who',\n",
       " 'whom',\n",
       " 'this',\n",
       " 'that',\n",
       " \"that'll\",\n",
       " 'these',\n",
       " 'those',\n",
       " 'am',\n",
       " 'is',\n",
       " 'are',\n",
       " 'was',\n",
       " 'were',\n",
       " 'be',\n",
       " 'been',\n",
       " 'being',\n",
       " 'have',\n",
       " 'has',\n",
       " 'had',\n",
       " 'having',\n",
       " 'do',\n",
       " 'does',\n",
       " 'did',\n",
       " 'doing',\n",
       " 'a',\n",
       " 'an',\n",
       " 'the',\n",
       " 'and',\n",
       " 'but',\n",
       " 'if',\n",
       " 'or',\n",
       " 'because',\n",
       " 'as',\n",
       " 'until',\n",
       " 'while',\n",
       " 'of',\n",
       " 'at',\n",
       " 'by',\n",
       " 'for',\n",
       " 'with',\n",
       " 'about',\n",
       " 'against',\n",
       " 'between',\n",
       " 'into',\n",
       " 'through',\n",
       " 'during',\n",
       " 'before',\n",
       " 'after',\n",
       " 'above',\n",
       " 'below',\n",
       " 'to',\n",
       " 'from',\n",
       " 'up',\n",
       " 'down',\n",
       " 'in',\n",
       " 'out',\n",
       " 'on',\n",
       " 'off',\n",
       " 'over',\n",
       " 'under',\n",
       " 'again',\n",
       " 'further',\n",
       " 'then',\n",
       " 'once',\n",
       " 'here',\n",
       " 'there',\n",
       " 'when',\n",
       " 'where',\n",
       " 'why',\n",
       " 'how',\n",
       " 'all',\n",
       " 'any',\n",
       " 'both',\n",
       " 'each',\n",
       " 'few',\n",
       " 'more',\n",
       " 'most',\n",
       " 'other',\n",
       " 'some',\n",
       " 'such',\n",
       " 'no',\n",
       " 'nor',\n",
       " 'not',\n",
       " 'only',\n",
       " 'own',\n",
       " 'same',\n",
       " 'so',\n",
       " 'than',\n",
       " 'too',\n",
       " 'very',\n",
       " 's',\n",
       " 't',\n",
       " 'can',\n",
       " 'will',\n",
       " 'just',\n",
       " 'don',\n",
       " \"don't\",\n",
       " 'should',\n",
       " \"should've\",\n",
       " 'now',\n",
       " 'd',\n",
       " 'll',\n",
       " 'm',\n",
       " 'o',\n",
       " 're',\n",
       " 've',\n",
       " 'y',\n",
       " 'ain',\n",
       " 'aren',\n",
       " \"aren't\",\n",
       " 'couldn',\n",
       " \"couldn't\",\n",
       " 'didn',\n",
       " \"didn't\",\n",
       " 'doesn',\n",
       " \"doesn't\",\n",
       " 'hadn',\n",
       " \"hadn't\",\n",
       " 'hasn',\n",
       " \"hasn't\",\n",
       " 'haven',\n",
       " \"haven't\",\n",
       " 'isn',\n",
       " \"isn't\",\n",
       " 'ma',\n",
       " 'mightn',\n",
       " \"mightn't\",\n",
       " 'mustn',\n",
       " \"mustn't\",\n",
       " 'needn',\n",
       " \"needn't\",\n",
       " 'shan',\n",
       " \"shan't\",\n",
       " 'shouldn',\n",
       " \"shouldn't\",\n",
       " 'wasn',\n",
       " \"wasn't\",\n",
       " 'weren',\n",
       " \"weren't\",\n",
       " 'won',\n",
       " \"won't\",\n",
       " 'wouldn',\n",
       " \"wouldn't\"]"
      ]
     },
     "execution_count": 16,
     "metadata": {},
     "output_type": "execute_result"
    }
   ],
   "source": [
    "stopwords_list = stopwords.words(\"english\")\n",
    "stopwords_list"
   ]
  },
  {
   "cell_type": "code",
   "execution_count": 18,
   "id": "cb1c21b2",
   "metadata": {},
   "outputs": [
    {
     "name": "stdout",
     "output_type": "stream",
     "text": [
      "179\n"
     ]
    }
   ],
   "source": [
    "print(len(stopwords_list))"
   ]
  },
  {
   "cell_type": "code",
   "execution_count": 19,
   "id": "63c5bb84",
   "metadata": {},
   "outputs": [
    {
     "data": {
      "text/plain": [
       "['natural',\n",
       " 'language',\n",
       " 'processing',\n",
       " 'subfield',\n",
       " 'artificial',\n",
       " 'intelligence',\n",
       " 'enables',\n",
       " 'computers',\n",
       " 'understand',\n",
       " 'human',\n",
       " 'language',\n",
       " 'nlp',\n",
       " 'allows',\n",
       " 'computers',\n",
       " 'perform',\n",
       " 'repetitive',\n",
       " 'tasks',\n",
       " 'machine',\n",
       " 'translation',\n",
       " 'summarization',\n",
       " 'ticket',\n",
       " 'classification',\n",
       " 'spell',\n",
       " 'check',\n",
       " 'nlp',\n",
       " 'existed',\n",
       " '50',\n",
       " 'years',\n",
       " 'roots',\n",
       " 'linguistics',\n",
       " 'nlp',\n",
       " 'used',\n",
       " 'many',\n",
       " 'applications',\n",
       " 'including',\n",
       " 'chatbots',\n",
       " 'virtual',\n",
       " 'assistants',\n",
       " 'sentiment',\n",
       " 'analysis',\n",
       " 'sentence',\n",
       " 'autocompletion',\n",
       " 'text',\n",
       " 'summarization',\n",
       " 'nlp',\n",
       " 'dynamic',\n",
       " 'rapidly',\n",
       " 'evolving',\n",
       " 'field',\n",
       " 'involves',\n",
       " 'interaction',\n",
       " 'humans',\n",
       " 'computers',\n",
       " 'natural',\n",
       " 'language']"
      ]
     },
     "execution_count": 19,
     "metadata": {},
     "output_type": "execute_result"
    }
   ],
   "source": [
    "# removing stop words\n",
    "text_without_stopword = [word for word in text_without_punctuations if word not in stopwords_list]\n",
    "text_without_stopword"
   ]
  },
  {
   "cell_type": "code",
   "execution_count": 20,
   "id": "3e01c652",
   "metadata": {},
   "outputs": [
    {
     "data": {
      "text/plain": [
       "['natural',\n",
       " 'language',\n",
       " 'processing',\n",
       " 'subfield',\n",
       " 'artificial',\n",
       " 'intelligence',\n",
       " 'enables',\n",
       " 'computers',\n",
       " 'understand',\n",
       " 'human',\n",
       " 'language',\n",
       " 'nlp',\n",
       " 'allows',\n",
       " 'computers',\n",
       " 'perform']"
      ]
     },
     "execution_count": 20,
     "metadata": {},
     "output_type": "execute_result"
    }
   ],
   "source": [
    "text_without_stopword[:15]"
   ]
  },
  {
   "cell_type": "code",
   "execution_count": 28,
   "id": "55f60436",
   "metadata": {},
   "outputs": [
    {
     "data": {
      "text/plain": [
       "'I do not like fast food'"
      ]
     },
     "execution_count": 28,
     "metadata": {},
     "output_type": "execute_result"
    }
   ],
   "source": [
    "# contraction mapping\n",
    "t1 = \"\"\"I don't like fast food.\"\"\"\n",
    "expanded_text = contractions.fix(t1)\n",
    "expanded_text"
   ]
  },
  {
   "cell_type": "code",
   "execution_count": 29,
   "id": "e4452d90",
   "metadata": {},
   "outputs": [
    {
     "data": {
      "text/plain": [
       "'I did not like the way you shouted at him.'"
      ]
     },
     "execution_count": 29,
     "metadata": {},
     "output_type": "execute_result"
    }
   ],
   "source": [
    "t2 = \"\"\"I didn't like the way you shouted at him.\"\"\"\n",
    "expanded_text = contractions.fix(t2)\n",
    "expanded_text"
   ]
  },
  {
   "cell_type": "code",
   "execution_count": 30,
   "id": "df93c5ea",
   "metadata": {},
   "outputs": [
    {
     "data": {
      "text/plain": [
       "'I cannot take you with me.'"
      ]
     },
     "execution_count": 30,
     "metadata": {},
     "output_type": "execute_result"
    }
   ],
   "source": [
    "# exception for contraction mapping\n",
    "t3 = \"\"\"I can't take you with me.\"\"\"\n",
    "expanded_text = contractions.fix(t3)\n",
    "expanded_text"
   ]
  },
  {
   "cell_type": "code",
   "execution_count": 35,
   "id": "c18d11fd",
   "metadata": {},
   "outputs": [
    {
     "data": {
      "text/plain": [
       "'I can not take you with me.'"
      ]
     },
     "execution_count": 35,
     "metadata": {},
     "output_type": "execute_result"
    }
   ],
   "source": [
    "expanded_text.replace(\"cannot\", \"can not\")"
   ]
  },
  {
   "cell_type": "code",
   "execution_count": 40,
   "id": "d7b4ebe2",
   "metadata": {},
   "outputs": [
    {
     "name": "stdout",
     "output_type": "stream",
     "text": [
      "original word ------natural\n",
      "stemmed word ------nat\n",
      "lemmatized_word ------natural\n",
      "+++++++++++++++++++++++++++++++++++++++\n",
      "original word ------language\n",
      "stemmed word ------langu\n",
      "lemmatized_word ------language\n",
      "+++++++++++++++++++++++++++++++++++++++\n",
      "original word ------processing\n",
      "stemmed word ------process\n",
      "lemmatized_word ------processing\n",
      "+++++++++++++++++++++++++++++++++++++++\n",
      "original word ------subfield\n",
      "stemmed word ------subfield\n",
      "lemmatized_word ------subfield\n",
      "+++++++++++++++++++++++++++++++++++++++\n",
      "original word ------artificial\n",
      "stemmed word ------art\n",
      "lemmatized_word ------artificial\n",
      "+++++++++++++++++++++++++++++++++++++++\n",
      "original word ------intelligence\n",
      "stemmed word ------intellig\n",
      "lemmatized_word ------intelligence\n",
      "+++++++++++++++++++++++++++++++++++++++\n",
      "original word ------enables\n",
      "stemmed word ------en\n",
      "lemmatized_word ------enables\n",
      "+++++++++++++++++++++++++++++++++++++++\n",
      "original word ------computers\n",
      "stemmed word ------comput\n",
      "lemmatized_word ------computer\n",
      "+++++++++++++++++++++++++++++++++++++++\n",
      "original word ------understand\n",
      "stemmed word ------understand\n",
      "lemmatized_word ------understand\n",
      "+++++++++++++++++++++++++++++++++++++++\n",
      "original word ------human\n",
      "stemmed word ------hum\n",
      "lemmatized_word ------human\n",
      "+++++++++++++++++++++++++++++++++++++++\n",
      "original word ------language\n",
      "stemmed word ------langu\n",
      "lemmatized_word ------language\n",
      "+++++++++++++++++++++++++++++++++++++++\n",
      "original word ------nlp\n",
      "stemmed word ------nlp\n",
      "lemmatized_word ------nlp\n",
      "+++++++++++++++++++++++++++++++++++++++\n",
      "original word ------allows\n",
      "stemmed word ------allow\n",
      "lemmatized_word ------allows\n",
      "+++++++++++++++++++++++++++++++++++++++\n",
      "original word ------computers\n",
      "stemmed word ------comput\n",
      "lemmatized_word ------computer\n",
      "+++++++++++++++++++++++++++++++++++++++\n",
      "original word ------perform\n",
      "stemmed word ------perform\n",
      "lemmatized_word ------perform\n",
      "+++++++++++++++++++++++++++++++++++++++\n",
      "original word ------repetitive\n",
      "stemmed word ------repetit\n",
      "lemmatized_word ------repetitive\n",
      "+++++++++++++++++++++++++++++++++++++++\n",
      "original word ------tasks\n",
      "stemmed word ------task\n",
      "lemmatized_word ------task\n",
      "+++++++++++++++++++++++++++++++++++++++\n",
      "original word ------machine\n",
      "stemmed word ------machin\n",
      "lemmatized_word ------machine\n",
      "+++++++++++++++++++++++++++++++++++++++\n",
      "original word ------translation\n",
      "stemmed word ------transl\n",
      "lemmatized_word ------translation\n",
      "+++++++++++++++++++++++++++++++++++++++\n",
      "original word ------summarization\n",
      "stemmed word ------summ\n",
      "lemmatized_word ------summarization\n",
      "+++++++++++++++++++++++++++++++++++++++\n",
      "original word ------ticket\n",
      "stemmed word ------ticket\n",
      "lemmatized_word ------ticket\n",
      "+++++++++++++++++++++++++++++++++++++++\n",
      "original word ------classification\n",
      "stemmed word ------class\n",
      "lemmatized_word ------classification\n",
      "+++++++++++++++++++++++++++++++++++++++\n",
      "original word ------spell\n",
      "stemmed word ------spel\n",
      "lemmatized_word ------spell\n",
      "+++++++++++++++++++++++++++++++++++++++\n",
      "original word ------check\n",
      "stemmed word ------check\n",
      "lemmatized_word ------check\n",
      "+++++++++++++++++++++++++++++++++++++++\n",
      "original word ------nlp\n",
      "stemmed word ------nlp\n",
      "lemmatized_word ------nlp\n",
      "+++++++++++++++++++++++++++++++++++++++\n",
      "original word ------existed\n",
      "stemmed word ------ex\n",
      "lemmatized_word ------existed\n",
      "+++++++++++++++++++++++++++++++++++++++\n",
      "original word ------50\n",
      "stemmed word ------50\n",
      "lemmatized_word ------50\n",
      "+++++++++++++++++++++++++++++++++++++++\n",
      "original word ------years\n",
      "stemmed word ------year\n",
      "lemmatized_word ------year\n",
      "+++++++++++++++++++++++++++++++++++++++\n",
      "original word ------roots\n",
      "stemmed word ------root\n",
      "lemmatized_word ------root\n",
      "+++++++++++++++++++++++++++++++++++++++\n",
      "original word ------linguistics\n",
      "stemmed word ------lingu\n",
      "lemmatized_word ------linguistics\n",
      "+++++++++++++++++++++++++++++++++++++++\n",
      "original word ------nlp\n",
      "stemmed word ------nlp\n",
      "lemmatized_word ------nlp\n",
      "+++++++++++++++++++++++++++++++++++++++\n",
      "original word ------used\n",
      "stemmed word ------us\n",
      "lemmatized_word ------used\n",
      "+++++++++++++++++++++++++++++++++++++++\n",
      "original word ------many\n",
      "stemmed word ------many\n",
      "lemmatized_word ------many\n",
      "+++++++++++++++++++++++++++++++++++++++\n",
      "original word ------applications\n",
      "stemmed word ------apply\n",
      "lemmatized_word ------application\n",
      "+++++++++++++++++++++++++++++++++++++++\n",
      "original word ------including\n",
      "stemmed word ------includ\n",
      "lemmatized_word ------including\n",
      "+++++++++++++++++++++++++++++++++++++++\n",
      "original word ------chatbots\n",
      "stemmed word ------chatbot\n",
      "lemmatized_word ------chatbots\n",
      "+++++++++++++++++++++++++++++++++++++++\n",
      "original word ------virtual\n",
      "stemmed word ------virt\n",
      "lemmatized_word ------virtual\n",
      "+++++++++++++++++++++++++++++++++++++++\n",
      "original word ------assistants\n",
      "stemmed word ------assist\n",
      "lemmatized_word ------assistant\n",
      "+++++++++++++++++++++++++++++++++++++++\n",
      "original word ------sentiment\n",
      "stemmed word ------senty\n",
      "lemmatized_word ------sentiment\n",
      "+++++++++++++++++++++++++++++++++++++++\n",
      "original word ------analysis\n",
      "stemmed word ------analys\n",
      "lemmatized_word ------analysis\n",
      "+++++++++++++++++++++++++++++++++++++++\n",
      "original word ------sentence\n",
      "stemmed word ------sent\n",
      "lemmatized_word ------sentence\n",
      "+++++++++++++++++++++++++++++++++++++++\n",
      "original word ------autocompletion\n",
      "stemmed word ------autocomplet\n",
      "lemmatized_word ------autocompletion\n",
      "+++++++++++++++++++++++++++++++++++++++\n",
      "original word ------text\n",
      "stemmed word ------text\n",
      "lemmatized_word ------text\n",
      "+++++++++++++++++++++++++++++++++++++++\n",
      "original word ------summarization\n",
      "stemmed word ------summ\n",
      "lemmatized_word ------summarization\n",
      "+++++++++++++++++++++++++++++++++++++++\n",
      "original word ------nlp\n",
      "stemmed word ------nlp\n",
      "lemmatized_word ------nlp\n",
      "+++++++++++++++++++++++++++++++++++++++\n",
      "original word ------dynamic\n",
      "stemmed word ------dynam\n",
      "lemmatized_word ------dynamic\n",
      "+++++++++++++++++++++++++++++++++++++++\n",
      "original word ------rapidly\n",
      "stemmed word ------rapid\n",
      "lemmatized_word ------rapidly\n",
      "+++++++++++++++++++++++++++++++++++++++\n",
      "original word ------evolving\n",
      "stemmed word ------evolv\n",
      "lemmatized_word ------evolving\n",
      "+++++++++++++++++++++++++++++++++++++++\n",
      "original word ------field\n",
      "stemmed word ------field\n",
      "lemmatized_word ------field\n",
      "+++++++++++++++++++++++++++++++++++++++\n",
      "original word ------involves\n",
      "stemmed word ------involv\n",
      "lemmatized_word ------involves\n",
      "+++++++++++++++++++++++++++++++++++++++\n",
      "original word ------interaction\n",
      "stemmed word ------interact\n",
      "lemmatized_word ------interaction\n",
      "+++++++++++++++++++++++++++++++++++++++\n",
      "original word ------humans\n",
      "stemmed word ------hum\n",
      "lemmatized_word ------human\n",
      "+++++++++++++++++++++++++++++++++++++++\n",
      "original word ------computers\n",
      "stemmed word ------comput\n",
      "lemmatized_word ------computer\n",
      "+++++++++++++++++++++++++++++++++++++++\n",
      "original word ------natural\n",
      "stemmed word ------nat\n",
      "lemmatized_word ------natural\n",
      "+++++++++++++++++++++++++++++++++++++++\n",
      "original word ------language\n",
      "stemmed word ------langu\n",
      "lemmatized_word ------language\n",
      "+++++++++++++++++++++++++++++++++++++++\n"
     ]
    }
   ],
   "source": [
    "# stemming and lemmatization\n",
    "stemming = LancasterStemmer()\n",
    "lemmatizer = WordNetLemmatizer()\n",
    "for word in text_without_stopword:\n",
    "    stemmed_word = stemming.stem(word)\n",
    "    lemmatized_word = lemmatizer.lemmatize(word)\n",
    "    print(f\"original word ------{word}\")\n",
    "    print(f\"stemmed word ------{stemmed_word}\")\n",
    "    print(f\"lemmatized_word ------{lemmatized_word}\")\n",
    "    print(\"+++++++++++++++++++++++++++++++++++++++\")"
   ]
  },
  {
   "cell_type": "code",
   "execution_count": 38,
   "id": "8f90521b",
   "metadata": {},
   "outputs": [
    {
     "name": "stderr",
     "output_type": "stream",
     "text": [
      "[nltk_data] Downloading package wordnet to\n",
      "[nltk_data]     C:\\Users\\surus\\AppData\\Roaming\\nltk_data...\n"
     ]
    },
    {
     "data": {
      "text/plain": [
       "True"
      ]
     },
     "execution_count": 38,
     "metadata": {},
     "output_type": "execute_result"
    }
   ],
   "source": [
    "nltk.download('wordnet')\n"
   ]
  },
  {
   "cell_type": "code",
   "execution_count": 41,
   "id": "cecfb5fa",
   "metadata": {},
   "outputs": [
    {
     "data": {
      "text/plain": [
       "'a, e, i, o, u, n, o, u, y '"
      ]
     },
     "execution_count": 41,
     "metadata": {},
     "output_type": "execute_result"
    }
   ],
   "source": [
    "# handling accented characters\n",
    "accented_character = \"\"\"â, ê, î, ô, û, ñ, ö, ü, ÿ \"\"\"\n",
    "fixed_word = unidecode(accented_character)\n",
    "fixed_word"
   ]
  },
  {
   "cell_type": "code",
   "execution_count": 45,
   "id": "9fdbf563",
   "metadata": {},
   "outputs": [],
   "source": [
    "# autocorrection\n",
    "from autocorrect import Speller"
   ]
  },
  {
   "cell_type": "code",
   "execution_count": 46,
   "id": "8caa9d68",
   "metadata": {},
   "outputs": [
    {
     "name": "stdout",
     "output_type": "stream",
     "text": [
      "elephant\n"
     ]
    }
   ],
   "source": [
    "spell = Speller(lang=\"en\")\n",
    "print(spell(\"elephent\"))"
   ]
  },
  {
   "cell_type": "code",
   "execution_count": 49,
   "id": "b6eaeaee",
   "metadata": {},
   "outputs": [
    {
     "name": "stdout",
     "output_type": "stream",
     "text": [
      "hall\n"
     ]
    }
   ],
   "source": [
    "spell = Speller(lang=\"en\")\n",
    "print(spell(\"hallo\"))"
   ]
  },
  {
   "cell_type": "code",
   "execution_count": 50,
   "id": "1f3d1d60",
   "metadata": {},
   "outputs": [
    {
     "name": "stdout",
     "output_type": "stream",
     "text": [
      "hello\n"
     ]
    }
   ],
   "source": [
    "spell = Speller(lang=\"en\")\n",
    "print(spell(\"helloo\"))"
   ]
  },
  {
   "cell_type": "code",
   "execution_count": 53,
   "id": "42588c05",
   "metadata": {},
   "outputs": [],
   "source": [
    "from textblob import TextBlob"
   ]
  },
  {
   "cell_type": "code",
   "execution_count": 54,
   "id": "0b76afed",
   "metadata": {},
   "outputs": [
    {
     "name": "stdout",
     "output_type": "stream",
     "text": [
      "elephant\n"
     ]
    }
   ],
   "source": [
    "a = \"elephent\"\n",
    "b = TextBlob(a)\n",
    "print(b.correct())"
   ]
  },
  {
   "cell_type": "code",
   "execution_count": 56,
   "id": "8b564c8d",
   "metadata": {},
   "outputs": [
    {
     "name": "stdout",
     "output_type": "stream",
     "text": [
      "hello\n"
     ]
    }
   ],
   "source": [
    "a = \"helloo\"\n",
    "b = TextBlob(a)\n",
    "print(b.correct())"
   ]
  },
  {
   "cell_type": "code",
   "execution_count": 57,
   "id": "ecd6ad3e",
   "metadata": {},
   "outputs": [
    {
     "name": "stdout",
     "output_type": "stream",
     "text": [
      "message\n"
     ]
    }
   ],
   "source": [
    "a = \"mussage\"\n",
    "b = TextBlob(a)\n",
    "print(b.correct())"
   ]
  },
  {
   "cell_type": "code",
   "execution_count": null,
   "id": "a93ae04f",
   "metadata": {},
   "outputs": [],
   "source": []
  }
 ],
 "metadata": {
  "kernelspec": {
   "display_name": "Python 3 (ipykernel)",
   "language": "python",
   "name": "python3"
  },
  "language_info": {
   "codemirror_mode": {
    "name": "ipython",
    "version": 3
   },
   "file_extension": ".py",
   "mimetype": "text/x-python",
   "name": "python",
   "nbconvert_exporter": "python",
   "pygments_lexer": "ipython3",
   "version": "3.11.4"
  }
 },
 "nbformat": 4,
 "nbformat_minor": 5
}
