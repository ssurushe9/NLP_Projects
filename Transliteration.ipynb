{
 "cells": [
  {
   "cell_type": "code",
   "execution_count": 1,
   "id": "1c159655",
   "metadata": {},
   "outputs": [
    {
     "name": "stdout",
     "output_type": "stream",
     "text": [
      "Collecting indic_transliteration\n",
      "  Obtaining dependency information for indic_transliteration from https://files.pythonhosted.org/packages/83/72/17e1a1bc6ba140ed7ad84b009a0470f77b986c2274c5cab31cbaeb022a14/indic_transliteration-2.3.49-py3-none-any.whl.metadata\n",
      "  Downloading indic_transliteration-2.3.49-py3-none-any.whl.metadata (1.4 kB)\n",
      "Requirement already satisfied: backports.functools-lru-cache in c:\\users\\surus\\anaconda3\\lib\\site-packages (from indic_transliteration) (1.6.4)\n",
      "Requirement already satisfied: regex in c:\\users\\surus\\anaconda3\\lib\\site-packages (from indic_transliteration) (2022.7.9)\n",
      "Requirement already satisfied: typer in c:\\users\\surus\\anaconda3\\lib\\site-packages (from indic_transliteration) (0.9.0)\n",
      "Requirement already satisfied: toml in c:\\users\\surus\\anaconda3\\lib\\site-packages (from indic_transliteration) (0.10.2)\n",
      "Collecting roman (from indic_transliteration)\n",
      "  Obtaining dependency information for roman from https://files.pythonhosted.org/packages/b3/e7/533d5082852a3e0001392b421172d1659a8dc81dad9c41d378adf891d689/roman-4.1-py3-none-any.whl.metadata\n",
      "  Downloading roman-4.1-py3-none-any.whl.metadata (3.3 kB)\n",
      "Requirement already satisfied: click<9.0.0,>=7.1.1 in c:\\users\\surus\\anaconda3\\lib\\site-packages (from typer->indic_transliteration) (8.0.4)\n",
      "Requirement already satisfied: typing-extensions>=3.7.4.3 in c:\\users\\surus\\anaconda3\\lib\\site-packages (from typer->indic_transliteration) (4.7.1)\n",
      "Requirement already satisfied: colorama in c:\\users\\surus\\anaconda3\\lib\\site-packages (from click<9.0.0,>=7.1.1->typer->indic_transliteration) (0.4.6)\n",
      "Downloading indic_transliteration-2.3.49-py3-none-any.whl (145 kB)\n",
      "   ---------------------------------------- 0.0/145.0 kB ? eta -:--:--\n",
      "   ----------- --------------------------- 41.0/145.0 kB 960.0 kB/s eta 0:00:01\n",
      "   ---------------------------------------  143.4/145.0 kB 1.7 MB/s eta 0:00:01\n",
      "   ---------------------------------------- 145.0/145.0 kB 1.4 MB/s eta 0:00:00\n",
      "Downloading roman-4.1-py3-none-any.whl (5.5 kB)\n",
      "Installing collected packages: roman, indic_transliteration\n",
      "Successfully installed indic_transliteration-2.3.49 roman-4.1\n"
     ]
    }
   ],
   "source": [
    "! pip install indic_transliteration"
   ]
  },
  {
   "cell_type": "code",
   "execution_count": 2,
   "id": "1abacfe4",
   "metadata": {},
   "outputs": [],
   "source": [
    "from googletrans import Translator"
   ]
  },
  {
   "cell_type": "code",
   "execution_count": 3,
   "id": "3f3ff58a",
   "metadata": {},
   "outputs": [],
   "source": [
    "def lang_trans(data):\n",
    "    translator = Translator()\n",
    "    translated_text = translator.translate(data)\n",
    "    return translated_text.text"
   ]
  },
  {
   "cell_type": "code",
   "execution_count": 4,
   "id": "04012ac6",
   "metadata": {},
   "outputs": [],
   "source": [
    "from indic_transliteration import sanscript\n",
    "from indic_transliteration.sanscript import transliterate"
   ]
  },
  {
   "cell_type": "code",
   "execution_count": 5,
   "id": "412eed65",
   "metadata": {},
   "outputs": [
    {
     "name": "stdout",
     "output_type": "stream",
     "text": [
      " आज् रविवर् अहे\n"
     ]
    }
   ],
   "source": [
    "text = \" aaj ravivar ahe\"\n",
    "print(transliterate(text,sanscript.ITRANS,sanscript.DEVANAGARI))"
   ]
  },
  {
   "cell_type": "code",
   "execution_count": 6,
   "id": "639870ac",
   "metadata": {},
   "outputs": [
    {
     "data": {
      "text/plain": [
       "'Today is Sunday'"
      ]
     },
     "execution_count": 6,
     "metadata": {},
     "output_type": "execute_result"
    }
   ],
   "source": [
    "lang_trans(\" आज् रविवर् अहे\")"
   ]
  },
  {
   "cell_type": "code",
   "execution_count": 8,
   "id": "01f43841",
   "metadata": {},
   "outputs": [
    {
     "name": "stdout",
     "output_type": "stream",
     "text": [
      " आज् रविवर् होत म्हनुन् मोच्क् नहि केल\n"
     ]
    }
   ],
   "source": [
    "text = \" aaj ravivar hota mhanun mock nahi kela\"\n",
    "print(transliterate(text,sanscript.ITRANS,sanscript.DEVANAGARI))\n"
   ]
  },
  {
   "cell_type": "code",
   "execution_count": 9,
   "id": "b4d15adf",
   "metadata": {},
   "outputs": [
    {
     "data": {
      "text/plain": [
       "\"I didn't mock because it was Sunday today\""
      ]
     },
     "execution_count": 9,
     "metadata": {},
     "output_type": "execute_result"
    }
   ],
   "source": [
    "lang_trans(\"  आज् रविवर् होत म्हनुन् मोच्क् नहि केल\")"
   ]
  },
  {
   "cell_type": "code",
   "execution_count": 12,
   "id": "bd9a8329",
   "metadata": {},
   "outputs": [
    {
     "name": "stdout",
     "output_type": "stream",
     "text": [
      " णमस्कर् मन्दलि। ख़से अहत् सग्ले। आअज् रविवर् ल विशेश् कय् केल् \n"
     ]
    }
   ],
   "source": [
    "text = \" Namaskar mandali. Kase ahat sagle. Aaj ravivar la vishesh kay kel \"\n",
    "print(transliterate(text,sanscript.ITRANS,sanscript.DEVANAGARI))"
   ]
  },
  {
   "cell_type": "code",
   "execution_count": 13,
   "id": "6bbc512e",
   "metadata": {},
   "outputs": [
    {
     "data": {
      "text/plain": [
       "'Namaskar Mandali. Khase Ahat Sagle. Aaj Ravivarl Vishesh Kay Kel'"
      ]
     },
     "execution_count": 13,
     "metadata": {},
     "output_type": "execute_result"
    }
   ],
   "source": [
    "lang_trans(\" णमस्कर् मन्दलि। ख़से अहत् सग्ले। आअज् रविवर् ल विशेश् कय् केल् \")"
   ]
  },
  {
   "cell_type": "code",
   "execution_count": 27,
   "id": "7cb66b99",
   "metadata": {},
   "outputs": [
    {
     "name": "stdout",
     "output_type": "stream",
     "text": [
      "शुभ् रत्रि\n"
     ]
    }
   ],
   "source": [
    "text = \"shubh ratri\"\n",
    "print(transliterate(text,sanscript.ITRANS,sanscript.DEVANAGARI))"
   ]
  },
  {
   "cell_type": "code",
   "execution_count": 28,
   "id": "9d6ba7b9",
   "metadata": {},
   "outputs": [
    {
     "data": {
      "text/plain": [
       "'shubhratri'"
      ]
     },
     "execution_count": 28,
     "metadata": {},
     "output_type": "execute_result"
    }
   ],
   "source": [
    "lang_trans(\"शुभ्रत्रि\")"
   ]
  },
  {
   "cell_type": "code",
   "execution_count": null,
   "id": "2041e5c4",
   "metadata": {},
   "outputs": [],
   "source": []
  }
 ],
 "metadata": {
  "kernelspec": {
   "display_name": "Python 3 (ipykernel)",
   "language": "python",
   "name": "python3"
  },
  "language_info": {
   "codemirror_mode": {
    "name": "ipython",
    "version": 3
   },
   "file_extension": ".py",
   "mimetype": "text/x-python",
   "name": "python",
   "nbconvert_exporter": "python",
   "pygments_lexer": "ipython3",
   "version": "3.11.4"
  }
 },
 "nbformat": 4,
 "nbformat_minor": 5
}
