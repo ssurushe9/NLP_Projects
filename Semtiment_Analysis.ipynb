{
 "cells": [
  {
   "cell_type": "code",
   "execution_count": 2,
   "id": "c6e3f4f3",
   "metadata": {},
   "outputs": [],
   "source": [
    "from nltk.tokenize import word_tokenize\n",
    "from nltk.stem import WordNetLemmatizer\n",
    "from nltk.corpus import stopwords\n",
    "from string import punctuation\n",
    "import contractions\n",
    "from unidecode import unidecode\n",
    "\n",
    "import pandas as pd\n",
    "from sklearn.feature_extraction.text import CountVectorizer,TfidfVectorizer\n",
    "from sklearn.naive_bayes import MultinomialNB\n",
    "from sklearn.metrics import accuracy_score\n",
    "from sklearn.model_selection import train_test_split\n",
    "from autocorrect import Speller"
   ]
  },
  {
   "cell_type": "code",
   "execution_count": 44,
   "id": "b36d3dd2",
   "metadata": {},
   "outputs": [
    {
     "data": {
      "text/html": [
       "<div>\n",
       "<style scoped>\n",
       "    .dataframe tbody tr th:only-of-type {\n",
       "        vertical-align: middle;\n",
       "    }\n",
       "\n",
       "    .dataframe tbody tr th {\n",
       "        vertical-align: top;\n",
       "    }\n",
       "\n",
       "    .dataframe thead th {\n",
       "        text-align: right;\n",
       "    }\n",
       "</style>\n",
       "<table border=\"1\" class=\"dataframe\">\n",
       "  <thead>\n",
       "    <tr style=\"text-align: right;\">\n",
       "      <th></th>\n",
       "      <th>text</th>\n",
       "      <th>label</th>\n",
       "    </tr>\n",
       "  </thead>\n",
       "  <tbody>\n",
       "    <tr>\n",
       "      <th>0</th>\n",
       "      <td>I grew up (b. 1965) watching and loving the Th...</td>\n",
       "      <td>0</td>\n",
       "    </tr>\n",
       "    <tr>\n",
       "      <th>1</th>\n",
       "      <td>When I put this movie in my DVD player, and sa...</td>\n",
       "      <td>0</td>\n",
       "    </tr>\n",
       "  </tbody>\n",
       "</table>\n",
       "</div>"
      ],
      "text/plain": [
       "                                                text  label\n",
       "0  I grew up (b. 1965) watching and loving the Th...      0\n",
       "1  When I put this movie in my DVD player, and sa...      0"
      ]
     },
     "execution_count": 44,
     "metadata": {},
     "output_type": "execute_result"
    }
   ],
   "source": [
    "data = pd.read_csv(\"Train.csv\")\n",
    "data.head(2)"
   ]
  },
  {
   "cell_type": "code",
   "execution_count": 32,
   "id": "7c8b5f0a",
   "metadata": {},
   "outputs": [
    {
     "data": {
      "text/plain": [
       "'I grew up (b. 1965) watching and loving the Thunderbirds. All my mates at school watched. We played \"Thunderbirds\" before school, during lunch and after school. We all wanted to be Virgil or Scott. No one wanted to be Alan. Counting down from 5 became an art form. I took my children to see the movie hoping they would get a glimpse of what I loved as a child. How bitterly disappointing. The only high point was the snappy theme tune. Not that it could compare with the original score of the Thunderbirds. Thankfully early Saturday mornings one television channel still plays reruns of the series Gerry Anderson and his wife created. Jonatha Frakes should hand in his directors chair, his version was completely hopeless. A waste of film. Utter rubbish. A CGI remake may be acceptable but replacing marionettes with Homo sapiens subsp. sapiens was a huge error of judgment.'"
      ]
     },
     "execution_count": 32,
     "metadata": {},
     "output_type": "execute_result"
    }
   ],
   "source": [
    "data[\"text\"][0]"
   ]
  },
  {
   "cell_type": "code",
   "execution_count": 45,
   "id": "fd1f279e",
   "metadata": {},
   "outputs": [],
   "source": [
    "# preprocessing\n",
    "# 1 remove spaces, newlines\n",
    "def remove_spaces(data):\n",
    "    clean_text = data.replace('\\\\n',' ').replace('\\t',' ').replace('\\\\',' ')\n",
    "    return clean_text\n",
    "\n",
    "# 2 contraction mapping\n",
    "def expand_text(data):\n",
    "    expanded_text = contractions.fix(data)\n",
    "    return expanded_text\n",
    "\n",
    "# 3 handling accented characters\n",
    "def handling_accented(data):\n",
    "    fixed_text = unidecode(data)\n",
    "    return fixed_text\n",
    "\n",
    "# 4 cleaning\n",
    "stopword_list = stopwords.words(\"english\")\n",
    "stopword_list.remove(\"no\")\n",
    "stopword_list.remove(\"nor\")\n",
    "stopword_list.remove(\"not\")\n",
    "\n",
    "def clean_data(data):\n",
    "    tokens = word_tokenize(data)\n",
    "    clean_text = [word.lower() for word in tokens if (word not in punctuation) and (word.lower() not in stopword_list) and (len(word)>2) and (word.isalpha())]\n",
    "    return clean_text\n",
    "\n",
    "# 5 autocorrection\n",
    "def autocorrection(data):\n",
    "    spell = Speller(lang = 'en')\n",
    "    corrected_text = spell(data)\n",
    "    return corrected_text\n",
    "\n",
    "# 6 Lemmatization\n",
    "def lemmatization(data):\n",
    "    lemmatizer = WordNetLemmatizer()\n",
    "    final_data = []\n",
    "    for word in data:\n",
    "        lemmatized_word = lemmatizer.lemmatize(word)\n",
    "        final_data.append(lemmatized_word)\n",
    "    return \" \".join(final_data)"
   ]
  },
  {
   "cell_type": "code",
   "execution_count": 39,
   "id": "a9292055",
   "metadata": {},
   "outputs": [],
   "source": [
    "# data splitting"
   ]
  },
  {
   "cell_type": "code",
   "execution_count": 40,
   "id": "9b84a4d7",
   "metadata": {},
   "outputs": [],
   "source": [
    "x_train,x_test,y_train,y_test = train_test_split(data.text,data.label,test_size= 0.25,random_state=42)"
   ]
  },
  {
   "cell_type": "code",
   "execution_count": 46,
   "id": "fbeeab0f",
   "metadata": {},
   "outputs": [],
   "source": [
    "clean_text_train = x_train.apply(remove_spaces)\n",
    "clean_text_test = x_test.apply(remove_spaces)\n",
    "\n",
    "clean_text_train = clean_text_train.apply(expand_text)\n",
    "clean_text_test = clean_text_test.apply(expand_text)\n",
    "\n",
    "clean_text_train = clean_text_train.apply(handling_accented)\n",
    "clean_text_test = clean_text_test.apply(handling_accented)\n",
    "\n",
    "clean_text_train = clean_text_train.apply(clean_data)\n",
    "clean_text_test = clean_text_test.apply(clean_data)\n",
    "\n",
    "clean_text_train = clean_text_train.apply(lemmatization)\n",
    "clean_text_test = clean_text_test.apply(lemmatization)"
   ]
  },
  {
   "cell_type": "code",
   "execution_count": 47,
   "id": "5f4072dd",
   "metadata": {},
   "outputs": [
    {
     "data": {
      "text/plain": [
       "27434    firstly huge fan crap film grade always good l...\n",
       "13895    not much film big budget child television far ...\n",
       "38835    delightful film accompanied composer rachel po...\n",
       "30654    like keep review short simple pretty much sum ...\n",
       "12278    remember hearing movie played nearly every the...\n",
       "                               ...                        \n",
       "31962    film grab opening scene never let watch indulg...\n",
       "23452    not masterpiece like godfather not purpose mov...\n",
       "23775    jefferey dahmer one sick guy not much say not ...\n",
       "37135    unfortunately showing star movie thailand last...\n",
       "27098    johnny dangerously fall completely hit miss ca...\n",
       "Name: text, Length: 30000, dtype: object"
      ]
     },
     "execution_count": 47,
     "metadata": {},
     "output_type": "execute_result"
    }
   ],
   "source": [
    "clean_text_train"
   ]
  },
  {
   "cell_type": "code",
   "execution_count": 64,
   "id": "c8f08f56",
   "metadata": {},
   "outputs": [],
   "source": [
    "# count vectorizer\n",
    "count = CountVectorizer(max_features = 1000,max_df = 0.95)\n",
    "count_val_train = count.fit_transform(clean_text_train)\n",
    "count_val_test = count.transform(clean_text_test)"
   ]
  },
  {
   "cell_type": "code",
   "execution_count": 65,
   "id": "e2235ba0",
   "metadata": {},
   "outputs": [
    {
     "data": {
      "text/plain": [
       "<30000x1000 sparse matrix of type '<class 'numpy.int64'>'\n",
       "\twith 1621967 stored elements in Compressed Sparse Row format>"
      ]
     },
     "execution_count": 65,
     "metadata": {},
     "output_type": "execute_result"
    }
   ],
   "source": [
    "count_val_train"
   ]
  },
  {
   "cell_type": "code",
   "execution_count": 66,
   "id": "b2d6396c",
   "metadata": {},
   "outputs": [
    {
     "data": {
      "text/plain": [
       "<10000x1000 sparse matrix of type '<class 'numpy.int64'>'\n",
       "\twith 542915 stored elements in Compressed Sparse Row format>"
      ]
     },
     "execution_count": 66,
     "metadata": {},
     "output_type": "execute_result"
    }
   ],
   "source": [
    "count_val_test"
   ]
  },
  {
   "cell_type": "code",
   "execution_count": 67,
   "id": "a2dae753",
   "metadata": {},
   "outputs": [
    {
     "data": {
      "text/plain": [
       "array([[0, 0, 1, ..., 0, 0, 2],\n",
       "       [0, 0, 0, ..., 0, 0, 0],\n",
       "       [0, 0, 0, ..., 0, 0, 0],\n",
       "       ...,\n",
       "       [0, 0, 0, ..., 1, 0, 0],\n",
       "       [0, 0, 0, ..., 0, 0, 0],\n",
       "       [0, 0, 0, ..., 0, 0, 0]], dtype=int64)"
      ]
     },
     "execution_count": 67,
     "metadata": {},
     "output_type": "execute_result"
    }
   ],
   "source": [
    "count_val_train.A"
   ]
  },
  {
   "cell_type": "code",
   "execution_count": 68,
   "id": "43c976b5",
   "metadata": {},
   "outputs": [
    {
     "data": {
      "text/plain": [
       "array([[0, 0, 0, ..., 0, 0, 0],\n",
       "       [0, 0, 0, ..., 1, 0, 0],\n",
       "       [0, 0, 0, ..., 0, 0, 0],\n",
       "       ...,\n",
       "       [0, 0, 0, ..., 0, 0, 0],\n",
       "       [0, 0, 0, ..., 0, 0, 0],\n",
       "       [0, 0, 0, ..., 0, 0, 0]], dtype=int64)"
      ]
     },
     "execution_count": 68,
     "metadata": {},
     "output_type": "execute_result"
    }
   ],
   "source": [
    "count_val_test.A"
   ]
  },
  {
   "cell_type": "code",
   "execution_count": 69,
   "id": "3a1c6735",
   "metadata": {},
   "outputs": [
    {
     "data": {
      "text/plain": [
       "array([[0, 0, 1, ..., 0, 0, 2],\n",
       "       [0, 0, 0, ..., 0, 0, 0],\n",
       "       [0, 0, 0, ..., 0, 0, 0],\n",
       "       ...,\n",
       "       [0, 0, 0, ..., 1, 0, 0],\n",
       "       [0, 0, 0, ..., 0, 0, 0],\n",
       "       [0, 0, 0, ..., 0, 0, 0]], dtype=int64)"
      ]
     },
     "execution_count": 69,
     "metadata": {},
     "output_type": "execute_result"
    }
   ],
   "source": [
    "count_val_train.toarray()"
   ]
  },
  {
   "cell_type": "code",
   "execution_count": 70,
   "id": "1fa7a450",
   "metadata": {},
   "outputs": [
    {
     "data": {
      "text/plain": [
       "array(['ability', 'able', 'absolutely', 'accent', 'across', 'act',\n",
       "       'acted', 'acting', 'action', 'actor', 'actress', 'actual',\n",
       "       'actually', 'adaptation', 'add', 'admit', 'adult', 'adventure',\n",
       "       'age', 'ago', 'agree', 'air', 'alien', 'alive', 'almost', 'alone',\n",
       "       'along', 'already', 'also', 'although', 'always', 'amazing',\n",
       "       'america', 'american', 'among', 'amount', 'animal', 'animation',\n",
       "       'annoying', 'another', 'answer', 'anyone', 'anything', 'anyway',\n",
       "       'apart', 'apparently', 'appear', 'appearance', 'appears',\n",
       "       'appreciate', 'army', 'around', 'art', 'aside', 'ask', 'aspect',\n",
       "       'atmosphere', 'attack', 'attempt', 'attention', 'audience',\n",
       "       'average', 'avoid', 'award', 'away', 'awesome', 'awful', 'baby',\n",
       "       'back', 'background', 'bad', 'badly', 'band', 'barely', 'based',\n",
       "       'basic', 'basically', 'battle', 'beautiful', 'beauty', 'became',\n",
       "       'become', 'becomes', 'bed', 'begin', 'beginning', 'behind',\n",
       "       'belief', 'believable', 'believe', 'best', 'better', 'beyond',\n",
       "       'big', 'biggest', 'bill', 'bit', 'bizarre', 'black', 'blood',\n",
       "       'blue', 'body', 'book', 'bored', 'boring', 'bother', 'box', 'boy',\n",
       "       'brain', 'break', 'brilliant', 'bring', 'brings', 'british',\n",
       "       'brother', 'brought', 'budget', 'building', 'bunch', 'business',\n",
       "       'buy', 'call', 'called', 'came', 'camera', 'camp', 'car', 'care',\n",
       "       'career', 'carry', 'cartoon', 'case', 'cast', 'casting', 'cat',\n",
       "       'catch', 'caught', 'century', 'certain', 'certainly', 'chance',\n",
       "       'change', 'channel', 'character', 'chase', 'cheap', 'check',\n",
       "       'cheesy', 'chemistry', 'child', 'choice', 'christmas', 'cinema',\n",
       "       'cinematography', 'city', 'class', 'classic', 'clear', 'clearly',\n",
       "       'clever', 'cliche', 'close', 'cold', 'college', 'color', 'come',\n",
       "       'comedy', 'comic', 'coming', 'comment', 'common', 'company',\n",
       "       'compared', 'complete', 'completely', 'computer', 'concept',\n",
       "       'considered', 'considering', 'control', 'convincing', 'cool',\n",
       "       'cop', 'copy', 'costume', 'could', 'country', 'couple', 'course',\n",
       "       'cover', 'crap', 'crazy', 'create', 'created', 'creature',\n",
       "       'credit', 'creepy', 'crew', 'crime', 'critic', 'cry', 'culture',\n",
       "       'cut', 'cute', 'dance', 'dancing', 'dark', 'daughter', 'david',\n",
       "       'day', 'dead', 'deal', 'death', 'decent', 'decide', 'decided',\n",
       "       'decides', 'deep', 'definitely', 'depth', 'deserves', 'despite',\n",
       "       'detail', 'development', 'dialog', 'dialogue', 'die', 'died',\n",
       "       'different', 'difficult', 'directed', 'directing', 'direction',\n",
       "       'director', 'disappointed', 'disney', 'doctor', 'documentary',\n",
       "       'dog', 'done', 'door', 'doubt', 'drama', 'dramatic', 'dream',\n",
       "       'drive', 'drug', 'due', 'dull', 'dumb', 'dvd', 'earlier', 'early',\n",
       "       'earth', 'easily', 'easy', 'editing', 'effect', 'effort', 'either',\n",
       "       'element', 'else', 'emotion', 'emotional', 'end', 'ended',\n",
       "       'ending', 'english', 'enjoy', 'enjoyable', 'enjoyed', 'enough',\n",
       "       'entertaining', 'entertainment', 'entire', 'entirely', 'episode',\n",
       "       'era', 'escape', 'especially', 'etc', 'even', 'event',\n",
       "       'eventually', 'ever', 'every', 'everyone', 'everything', 'evil',\n",
       "       'exactly', 'example', 'excellent', 'except', 'exciting', 'expect',\n",
       "       'expected', 'expecting', 'experience', 'extra', 'extremely', 'eye',\n",
       "       'face', 'fact', 'fails', 'fair', 'fairly', 'fake', 'fall',\n",
       "       'familiar', 'family', 'famous', 'fan', 'fantastic', 'fantasy',\n",
       "       'far', 'fast', 'father', 'favorite', 'fear', 'feature', 'feel',\n",
       "       'feeling', 'felt', 'female', 'fiction', 'fight', 'fighting',\n",
       "       'figure', 'filled', 'film', 'filmed', 'filmmaker', 'final',\n",
       "       'finally', 'find', 'fine', 'fire', 'first', 'fit', 'five', 'flat',\n",
       "       'flaw', 'flick', 'focus', 'follow', 'following', 'follows',\n",
       "       'footage', 'force', 'forced', 'forget', 'form', 'former',\n",
       "       'forward', 'found', 'four', 'free', 'french', 'friend', 'front',\n",
       "       'full', 'fun', 'funny', 'future', 'game', 'gang', 'gave', 'gay',\n",
       "       'general', 'genius', 'genre', 'george', 'german', 'get', 'getting',\n",
       "       'ghost', 'girl', 'girlfriend', 'give', 'given', 'giving', 'go',\n",
       "       'god', 'going', 'gone', 'good', 'gore', 'got', 'great', 'greatest',\n",
       "       'group', 'guess', 'gun', 'guy', 'hair', 'half', 'hand', 'happen',\n",
       "       'happened', 'happens', 'happy', 'hard', 'hardly', 'hate', 'head',\n",
       "       'hear', 'heard', 'heart', 'hell', 'help', 'hero', 'high', 'highly',\n",
       "       'hilarious', 'history', 'hit', 'hold', 'hole', 'hollywood', 'home',\n",
       "       'honestly', 'hope', 'horrible', 'horror', 'hot', 'hour', 'house',\n",
       "       'however', 'huge', 'human', 'humor', 'humour', 'husband', 'idea',\n",
       "       'image', 'imagine', 'imdb', 'important', 'including', 'incredible',\n",
       "       'incredibly', 'indeed', 'indian', 'inside', 'instead',\n",
       "       'intelligent', 'interest', 'interested', 'interesting', 'involved',\n",
       "       'involving', 'island', 'issue', 'italian', 'jack', 'james', 'jane',\n",
       "       'japanese', 'job', 'joe', 'john', 'joke', 'journey', 'keep',\n",
       "       'kept', 'kid', 'kill', 'killed', 'killer', 'killing', 'kind',\n",
       "       'king', 'knew', 'know', 'known', 'lack', 'lady', 'lame', 'land',\n",
       "       'language', 'large', 'last', 'late', 'later', 'laugh', 'laughing',\n",
       "       'law', 'le', 'lead', 'leading', 'leaf', 'learn', 'least', 'leave',\n",
       "       'lee', 'left', 'let', 'level', 'lie', 'life', 'light', 'like',\n",
       "       'liked', 'line', 'list', 'literally', 'little', 'live', 'living',\n",
       "       'local', 'location', 'long', 'look', 'looked', 'looking', 'lost',\n",
       "       'lot', 'love', 'loved', 'lover', 'low', 'mad', 'made', 'main',\n",
       "       'major', 'make', 'maker', 'making', 'male', 'man', 'manages',\n",
       "       'many', 'mark', 'married', 'master', 'masterpiece', 'match',\n",
       "       'material', 'matter', 'may', 'maybe', 'mean', 'meaning', 'meant',\n",
       "       'meet', 'member', 'memorable', 'memory', 'men', 'mention',\n",
       "       'mentioned', 'mess', 'message', 'michael', 'middle', 'might',\n",
       "       'million', 'mind', 'minute', 'miss', 'missed', 'missing',\n",
       "       'mistake', 'modern', 'moment', 'money', 'monster', 'mostly',\n",
       "       'mother', 'move', 'movie', 'moving', 'much', 'murder', 'music',\n",
       "       'musical', 'must', 'mystery', 'name', 'named', 'nature', 'near',\n",
       "       'nearly', 'need', 'needed', 'neither', 'never', 'new', 'next',\n",
       "       'nice', 'night', 'none', 'nor', 'not', 'note', 'nothing', 'novel',\n",
       "       'nudity', 'number', 'obvious', 'obviously', 'odd', 'offer',\n",
       "       'office', 'often', 'okay', 'old', 'older', 'one', 'open',\n",
       "       'opening', 'opinion', 'order', 'original', 'oscar', 'others',\n",
       "       'otherwise', 'outside', 'overall', 'pace', 'parent', 'park',\n",
       "       'part', 'particular', 'particularly', 'party', 'past', 'pathetic',\n",
       "       'paul', 'pay', 'people', 'perfect', 'perfectly', 'performance',\n",
       "       'perhaps', 'period', 'person', 'personal', 'peter', 'pick',\n",
       "       'picture', 'piece', 'place', 'plain', 'plan', 'planet', 'play',\n",
       "       'played', 'player', 'playing', 'please', 'plenty', 'plot', 'plus',\n",
       "       'point', 'pointless', 'police', 'political', 'poor', 'poorly',\n",
       "       'popular', 'portrayal', 'portrayed', 'positive', 'possible',\n",
       "       'possibly', 'potential', 'power', 'powerful', 'predictable',\n",
       "       'premise', 'present', 'pretty', 'previous', 'probably', 'problem',\n",
       "       'produced', 'producer', 'production', 'project', 'public', 'pull',\n",
       "       'pure', 'purpose', 'put', 'quality', 'question', 'quickly',\n",
       "       'quite', 'rate', 'rather', 'rating', 'read', 'reading', 'real',\n",
       "       'realistic', 'reality', 'realize', 'really', 'reason', 'recent',\n",
       "       'recently', 'recommend', 'recommended', 'red', 'relationship',\n",
       "       'release', 'released', 'remake', 'remember', 'rent', 'respect',\n",
       "       'rest', 'result', 'return', 'review', 'reviewer', 'rich',\n",
       "       'richard', 'ride', 'ridiculous', 'right', 'road', 'robert', 'rock',\n",
       "       'role', 'romance', 'romantic', 'room', 'run', 'running', 'sad',\n",
       "       'sadly', 'said', 'save', 'saw', 'say', 'saying', 'scary', 'scene',\n",
       "       'school', 'science', 'scientist', 'score', 'scott', 'screen',\n",
       "       'screenplay', 'script', 'season', 'second', 'secret', 'see',\n",
       "       'seeing', 'seem', 'seemed', 'seems', 'seen', 'sense', 'sequel',\n",
       "       'sequence', 'series', 'serious', 'seriously', 'set', 'setting',\n",
       "       'several', 'sex', 'sexual', 'shame', 'ship', 'shoot', 'shooting',\n",
       "       'short', 'shot', 'show', 'showing', 'shown', 'sick', 'side',\n",
       "       'silly', 'similar', 'simple', 'simply', 'since', 'singing',\n",
       "       'single', 'sister', 'sit', 'situation', 'slightly', 'slow',\n",
       "       'small', 'social', 'society', 'soldier', 'solid', 'somehow',\n",
       "       'someone', 'something', 'sometimes', 'somewhat', 'somewhere',\n",
       "       'son', 'song', 'soon', 'sorry', 'sort', 'soul', 'sound',\n",
       "       'soundtrack', 'space', 'speak', 'special', 'spend', 'spent',\n",
       "       'spirit', 'spoiler', 'stage', 'stand', 'standard', 'star', 'start',\n",
       "       'started', 'state', 'stay', 'stick', 'still', 'stop', 'store',\n",
       "       'story', 'storyline', 'straight', 'strange', 'street', 'strong',\n",
       "       'struggle', 'student', 'studio', 'stuff', 'stupid', 'style',\n",
       "       'subject', 'success', 'successful', 'suddenly', 'superb',\n",
       "       'supporting', 'supposed', 'sure', 'surprise', 'surprised',\n",
       "       'suspense', 'sweet', 'take', 'taken', 'taking', 'tale', 'talent',\n",
       "       'talented', 'talk', 'talking', 'taste', 'team', 'teen', 'teenager',\n",
       "       'television', 'tell', 'telling', 'ten', 'tension', 'term',\n",
       "       'terrible', 'thanks', 'theater', 'theme', 'thing', 'think',\n",
       "       'thinking', 'third', 'though', 'thought', 'three', 'thriller',\n",
       "       'throughout', 'throw', 'time', 'title', 'today', 'together',\n",
       "       'told', 'tom', 'tone', 'took', 'top', 'total', 'totally', 'touch',\n",
       "       'towards', 'town', 'track', 'train', 'tried', 'trip', 'trouble',\n",
       "       'true', 'truly', 'truth', 'try', 'trying', 'turn', 'turned',\n",
       "       'twist', 'two', 'type', 'typical', 'ultimately', 'understand',\n",
       "       'unfortunately', 'unique', 'unless', 'unlike', 'upon', 'us', 'use',\n",
       "       'used', 'using', 'usual', 'usually', 'value', 'vampire', 'van',\n",
       "       'various', 'version', 'victim', 'video', 'view', 'viewer',\n",
       "       'viewing', 'villain', 'violence', 'violent', 'visual', 'voice',\n",
       "       'wait', 'waiting', 'walk', 'want', 'wanted', 'war', 'waste',\n",
       "       'wasted', 'watch', 'watched', 'watching', 'water', 'way', 'weak',\n",
       "       'week', 'weird', 'well', 'went', 'western', 'whatever', 'whether',\n",
       "       'white', 'whole', 'whose', 'wife', 'william', 'win', 'wish',\n",
       "       'within', 'without', 'woman', 'wonder', 'wonderful', 'wood',\n",
       "       'word', 'work', 'worked', 'working', 'world', 'worse', 'worst',\n",
       "       'worth', 'would', 'write', 'writer', 'writing', 'written', 'wrong',\n",
       "       'wrote', 'yeah', 'year', 'yes', 'yet', 'york', 'young', 'younger',\n",
       "       'zombie'], dtype=object)"
      ]
     },
     "execution_count": 70,
     "metadata": {},
     "output_type": "execute_result"
    }
   ],
   "source": [
    "x = count.get_feature_names_out()\n",
    "x"
   ]
  },
  {
   "cell_type": "code",
   "execution_count": 71,
   "id": "f5427adc",
   "metadata": {},
   "outputs": [
    {
     "data": {
      "text/plain": [
       "1000"
      ]
     },
     "execution_count": 71,
     "metadata": {},
     "output_type": "execute_result"
    }
   ],
   "source": [
    "len(x)"
   ]
  },
  {
   "cell_type": "code",
   "execution_count": 72,
   "id": "c7fc632d",
   "metadata": {},
   "outputs": [
    {
     "data": {
      "text/html": [
       "<div>\n",
       "<style scoped>\n",
       "    .dataframe tbody tr th:only-of-type {\n",
       "        vertical-align: middle;\n",
       "    }\n",
       "\n",
       "    .dataframe tbody tr th {\n",
       "        vertical-align: top;\n",
       "    }\n",
       "\n",
       "    .dataframe thead th {\n",
       "        text-align: right;\n",
       "    }\n",
       "</style>\n",
       "<table border=\"1\" class=\"dataframe\">\n",
       "  <thead>\n",
       "    <tr style=\"text-align: right;\">\n",
       "      <th></th>\n",
       "      <th>ability</th>\n",
       "      <th>able</th>\n",
       "      <th>absolutely</th>\n",
       "      <th>accent</th>\n",
       "      <th>across</th>\n",
       "      <th>act</th>\n",
       "      <th>acted</th>\n",
       "      <th>acting</th>\n",
       "      <th>action</th>\n",
       "      <th>actor</th>\n",
       "      <th>...</th>\n",
       "      <th>wrong</th>\n",
       "      <th>wrote</th>\n",
       "      <th>yeah</th>\n",
       "      <th>year</th>\n",
       "      <th>yes</th>\n",
       "      <th>yet</th>\n",
       "      <th>york</th>\n",
       "      <th>young</th>\n",
       "      <th>younger</th>\n",
       "      <th>zombie</th>\n",
       "    </tr>\n",
       "  </thead>\n",
       "  <tbody>\n",
       "    <tr>\n",
       "      <th>0</th>\n",
       "      <td>0</td>\n",
       "      <td>0</td>\n",
       "      <td>1</td>\n",
       "      <td>0</td>\n",
       "      <td>0</td>\n",
       "      <td>0</td>\n",
       "      <td>0</td>\n",
       "      <td>1</td>\n",
       "      <td>0</td>\n",
       "      <td>0</td>\n",
       "      <td>...</td>\n",
       "      <td>0</td>\n",
       "      <td>0</td>\n",
       "      <td>0</td>\n",
       "      <td>0</td>\n",
       "      <td>0</td>\n",
       "      <td>0</td>\n",
       "      <td>0</td>\n",
       "      <td>0</td>\n",
       "      <td>0</td>\n",
       "      <td>2</td>\n",
       "    </tr>\n",
       "    <tr>\n",
       "      <th>1</th>\n",
       "      <td>0</td>\n",
       "      <td>0</td>\n",
       "      <td>0</td>\n",
       "      <td>0</td>\n",
       "      <td>0</td>\n",
       "      <td>0</td>\n",
       "      <td>0</td>\n",
       "      <td>0</td>\n",
       "      <td>0</td>\n",
       "      <td>0</td>\n",
       "      <td>...</td>\n",
       "      <td>0</td>\n",
       "      <td>0</td>\n",
       "      <td>0</td>\n",
       "      <td>0</td>\n",
       "      <td>0</td>\n",
       "      <td>0</td>\n",
       "      <td>0</td>\n",
       "      <td>0</td>\n",
       "      <td>0</td>\n",
       "      <td>0</td>\n",
       "    </tr>\n",
       "    <tr>\n",
       "      <th>2</th>\n",
       "      <td>0</td>\n",
       "      <td>0</td>\n",
       "      <td>0</td>\n",
       "      <td>0</td>\n",
       "      <td>1</td>\n",
       "      <td>0</td>\n",
       "      <td>0</td>\n",
       "      <td>0</td>\n",
       "      <td>0</td>\n",
       "      <td>0</td>\n",
       "      <td>...</td>\n",
       "      <td>0</td>\n",
       "      <td>0</td>\n",
       "      <td>0</td>\n",
       "      <td>0</td>\n",
       "      <td>0</td>\n",
       "      <td>0</td>\n",
       "      <td>0</td>\n",
       "      <td>0</td>\n",
       "      <td>0</td>\n",
       "      <td>0</td>\n",
       "    </tr>\n",
       "    <tr>\n",
       "      <th>3</th>\n",
       "      <td>0</td>\n",
       "      <td>0</td>\n",
       "      <td>0</td>\n",
       "      <td>0</td>\n",
       "      <td>0</td>\n",
       "      <td>0</td>\n",
       "      <td>0</td>\n",
       "      <td>1</td>\n",
       "      <td>0</td>\n",
       "      <td>0</td>\n",
       "      <td>...</td>\n",
       "      <td>0</td>\n",
       "      <td>0</td>\n",
       "      <td>0</td>\n",
       "      <td>0</td>\n",
       "      <td>0</td>\n",
       "      <td>0</td>\n",
       "      <td>0</td>\n",
       "      <td>0</td>\n",
       "      <td>0</td>\n",
       "      <td>0</td>\n",
       "    </tr>\n",
       "    <tr>\n",
       "      <th>4</th>\n",
       "      <td>0</td>\n",
       "      <td>0</td>\n",
       "      <td>0</td>\n",
       "      <td>0</td>\n",
       "      <td>0</td>\n",
       "      <td>0</td>\n",
       "      <td>0</td>\n",
       "      <td>0</td>\n",
       "      <td>0</td>\n",
       "      <td>0</td>\n",
       "      <td>...</td>\n",
       "      <td>0</td>\n",
       "      <td>0</td>\n",
       "      <td>0</td>\n",
       "      <td>0</td>\n",
       "      <td>0</td>\n",
       "      <td>0</td>\n",
       "      <td>0</td>\n",
       "      <td>0</td>\n",
       "      <td>0</td>\n",
       "      <td>0</td>\n",
       "    </tr>\n",
       "    <tr>\n",
       "      <th>...</th>\n",
       "      <td>...</td>\n",
       "      <td>...</td>\n",
       "      <td>...</td>\n",
       "      <td>...</td>\n",
       "      <td>...</td>\n",
       "      <td>...</td>\n",
       "      <td>...</td>\n",
       "      <td>...</td>\n",
       "      <td>...</td>\n",
       "      <td>...</td>\n",
       "      <td>...</td>\n",
       "      <td>...</td>\n",
       "      <td>...</td>\n",
       "      <td>...</td>\n",
       "      <td>...</td>\n",
       "      <td>...</td>\n",
       "      <td>...</td>\n",
       "      <td>...</td>\n",
       "      <td>...</td>\n",
       "      <td>...</td>\n",
       "      <td>...</td>\n",
       "    </tr>\n",
       "    <tr>\n",
       "      <th>29995</th>\n",
       "      <td>0</td>\n",
       "      <td>0</td>\n",
       "      <td>0</td>\n",
       "      <td>0</td>\n",
       "      <td>0</td>\n",
       "      <td>0</td>\n",
       "      <td>0</td>\n",
       "      <td>0</td>\n",
       "      <td>0</td>\n",
       "      <td>1</td>\n",
       "      <td>...</td>\n",
       "      <td>0</td>\n",
       "      <td>0</td>\n",
       "      <td>0</td>\n",
       "      <td>0</td>\n",
       "      <td>0</td>\n",
       "      <td>0</td>\n",
       "      <td>0</td>\n",
       "      <td>1</td>\n",
       "      <td>0</td>\n",
       "      <td>0</td>\n",
       "    </tr>\n",
       "    <tr>\n",
       "      <th>29996</th>\n",
       "      <td>0</td>\n",
       "      <td>0</td>\n",
       "      <td>0</td>\n",
       "      <td>0</td>\n",
       "      <td>0</td>\n",
       "      <td>0</td>\n",
       "      <td>0</td>\n",
       "      <td>0</td>\n",
       "      <td>0</td>\n",
       "      <td>0</td>\n",
       "      <td>...</td>\n",
       "      <td>0</td>\n",
       "      <td>0</td>\n",
       "      <td>0</td>\n",
       "      <td>0</td>\n",
       "      <td>0</td>\n",
       "      <td>0</td>\n",
       "      <td>0</td>\n",
       "      <td>0</td>\n",
       "      <td>0</td>\n",
       "      <td>0</td>\n",
       "    </tr>\n",
       "    <tr>\n",
       "      <th>29997</th>\n",
       "      <td>0</td>\n",
       "      <td>0</td>\n",
       "      <td>0</td>\n",
       "      <td>0</td>\n",
       "      <td>0</td>\n",
       "      <td>0</td>\n",
       "      <td>0</td>\n",
       "      <td>0</td>\n",
       "      <td>0</td>\n",
       "      <td>0</td>\n",
       "      <td>...</td>\n",
       "      <td>0</td>\n",
       "      <td>0</td>\n",
       "      <td>0</td>\n",
       "      <td>1</td>\n",
       "      <td>0</td>\n",
       "      <td>0</td>\n",
       "      <td>0</td>\n",
       "      <td>1</td>\n",
       "      <td>0</td>\n",
       "      <td>0</td>\n",
       "    </tr>\n",
       "    <tr>\n",
       "      <th>29998</th>\n",
       "      <td>0</td>\n",
       "      <td>0</td>\n",
       "      <td>0</td>\n",
       "      <td>3</td>\n",
       "      <td>0</td>\n",
       "      <td>1</td>\n",
       "      <td>1</td>\n",
       "      <td>3</td>\n",
       "      <td>0</td>\n",
       "      <td>2</td>\n",
       "      <td>...</td>\n",
       "      <td>0</td>\n",
       "      <td>0</td>\n",
       "      <td>0</td>\n",
       "      <td>1</td>\n",
       "      <td>1</td>\n",
       "      <td>0</td>\n",
       "      <td>0</td>\n",
       "      <td>0</td>\n",
       "      <td>0</td>\n",
       "      <td>0</td>\n",
       "    </tr>\n",
       "    <tr>\n",
       "      <th>29999</th>\n",
       "      <td>0</td>\n",
       "      <td>0</td>\n",
       "      <td>0</td>\n",
       "      <td>0</td>\n",
       "      <td>0</td>\n",
       "      <td>0</td>\n",
       "      <td>0</td>\n",
       "      <td>0</td>\n",
       "      <td>0</td>\n",
       "      <td>0</td>\n",
       "      <td>...</td>\n",
       "      <td>0</td>\n",
       "      <td>0</td>\n",
       "      <td>0</td>\n",
       "      <td>1</td>\n",
       "      <td>0</td>\n",
       "      <td>0</td>\n",
       "      <td>0</td>\n",
       "      <td>0</td>\n",
       "      <td>0</td>\n",
       "      <td>0</td>\n",
       "    </tr>\n",
       "  </tbody>\n",
       "</table>\n",
       "<p>30000 rows × 1000 columns</p>\n",
       "</div>"
      ],
      "text/plain": [
       "       ability  able  absolutely  accent  across  act  acted  acting  action  \\\n",
       "0            0     0           1       0       0    0      0       1       0   \n",
       "1            0     0           0       0       0    0      0       0       0   \n",
       "2            0     0           0       0       1    0      0       0       0   \n",
       "3            0     0           0       0       0    0      0       1       0   \n",
       "4            0     0           0       0       0    0      0       0       0   \n",
       "...        ...   ...         ...     ...     ...  ...    ...     ...     ...   \n",
       "29995        0     0           0       0       0    0      0       0       0   \n",
       "29996        0     0           0       0       0    0      0       0       0   \n",
       "29997        0     0           0       0       0    0      0       0       0   \n",
       "29998        0     0           0       3       0    1      1       3       0   \n",
       "29999        0     0           0       0       0    0      0       0       0   \n",
       "\n",
       "       actor  ...  wrong  wrote  yeah  year  yes  yet  york  young  younger  \\\n",
       "0          0  ...      0      0     0     0    0    0     0      0        0   \n",
       "1          0  ...      0      0     0     0    0    0     0      0        0   \n",
       "2          0  ...      0      0     0     0    0    0     0      0        0   \n",
       "3          0  ...      0      0     0     0    0    0     0      0        0   \n",
       "4          0  ...      0      0     0     0    0    0     0      0        0   \n",
       "...      ...  ...    ...    ...   ...   ...  ...  ...   ...    ...      ...   \n",
       "29995      1  ...      0      0     0     0    0    0     0      1        0   \n",
       "29996      0  ...      0      0     0     0    0    0     0      0        0   \n",
       "29997      0  ...      0      0     0     1    0    0     0      1        0   \n",
       "29998      2  ...      0      0     0     1    1    0     0      0        0   \n",
       "29999      0  ...      0      0     0     1    0    0     0      0        0   \n",
       "\n",
       "       zombie  \n",
       "0           2  \n",
       "1           0  \n",
       "2           0  \n",
       "3           0  \n",
       "4           0  \n",
       "...       ...  \n",
       "29995       0  \n",
       "29996       0  \n",
       "29997       0  \n",
       "29998       0  \n",
       "29999       0  \n",
       "\n",
       "[30000 rows x 1000 columns]"
      ]
     },
     "execution_count": 72,
     "metadata": {},
     "output_type": "execute_result"
    }
   ],
   "source": [
    "# building dataframe\n",
    "pd.DataFrame(count_val_train.A,columns = x)"
   ]
  },
  {
   "cell_type": "code",
   "execution_count": 73,
   "id": "2bf6c67c",
   "metadata": {},
   "outputs": [
    {
     "data": {
      "text/html": [
       "<style>#sk-container-id-4 {color: black;}#sk-container-id-4 pre{padding: 0;}#sk-container-id-4 div.sk-toggleable {background-color: white;}#sk-container-id-4 label.sk-toggleable__label {cursor: pointer;display: block;width: 100%;margin-bottom: 0;padding: 0.3em;box-sizing: border-box;text-align: center;}#sk-container-id-4 label.sk-toggleable__label-arrow:before {content: \"▸\";float: left;margin-right: 0.25em;color: #696969;}#sk-container-id-4 label.sk-toggleable__label-arrow:hover:before {color: black;}#sk-container-id-4 div.sk-estimator:hover label.sk-toggleable__label-arrow:before {color: black;}#sk-container-id-4 div.sk-toggleable__content {max-height: 0;max-width: 0;overflow: hidden;text-align: left;background-color: #f0f8ff;}#sk-container-id-4 div.sk-toggleable__content pre {margin: 0.2em;color: black;border-radius: 0.25em;background-color: #f0f8ff;}#sk-container-id-4 input.sk-toggleable__control:checked~div.sk-toggleable__content {max-height: 200px;max-width: 100%;overflow: auto;}#sk-container-id-4 input.sk-toggleable__control:checked~label.sk-toggleable__label-arrow:before {content: \"▾\";}#sk-container-id-4 div.sk-estimator input.sk-toggleable__control:checked~label.sk-toggleable__label {background-color: #d4ebff;}#sk-container-id-4 div.sk-label input.sk-toggleable__control:checked~label.sk-toggleable__label {background-color: #d4ebff;}#sk-container-id-4 input.sk-hidden--visually {border: 0;clip: rect(1px 1px 1px 1px);clip: rect(1px, 1px, 1px, 1px);height: 1px;margin: -1px;overflow: hidden;padding: 0;position: absolute;width: 1px;}#sk-container-id-4 div.sk-estimator {font-family: monospace;background-color: #f0f8ff;border: 1px dotted black;border-radius: 0.25em;box-sizing: border-box;margin-bottom: 0.5em;}#sk-container-id-4 div.sk-estimator:hover {background-color: #d4ebff;}#sk-container-id-4 div.sk-parallel-item::after {content: \"\";width: 100%;border-bottom: 1px solid gray;flex-grow: 1;}#sk-container-id-4 div.sk-label:hover label.sk-toggleable__label {background-color: #d4ebff;}#sk-container-id-4 div.sk-serial::before {content: \"\";position: absolute;border-left: 1px solid gray;box-sizing: border-box;top: 0;bottom: 0;left: 50%;z-index: 0;}#sk-container-id-4 div.sk-serial {display: flex;flex-direction: column;align-items: center;background-color: white;padding-right: 0.2em;padding-left: 0.2em;position: relative;}#sk-container-id-4 div.sk-item {position: relative;z-index: 1;}#sk-container-id-4 div.sk-parallel {display: flex;align-items: stretch;justify-content: center;background-color: white;position: relative;}#sk-container-id-4 div.sk-item::before, #sk-container-id-4 div.sk-parallel-item::before {content: \"\";position: absolute;border-left: 1px solid gray;box-sizing: border-box;top: 0;bottom: 0;left: 50%;z-index: -1;}#sk-container-id-4 div.sk-parallel-item {display: flex;flex-direction: column;z-index: 1;position: relative;background-color: white;}#sk-container-id-4 div.sk-parallel-item:first-child::after {align-self: flex-end;width: 50%;}#sk-container-id-4 div.sk-parallel-item:last-child::after {align-self: flex-start;width: 50%;}#sk-container-id-4 div.sk-parallel-item:only-child::after {width: 0;}#sk-container-id-4 div.sk-dashed-wrapped {border: 1px dashed gray;margin: 0 0.4em 0.5em 0.4em;box-sizing: border-box;padding-bottom: 0.4em;background-color: white;}#sk-container-id-4 div.sk-label label {font-family: monospace;font-weight: bold;display: inline-block;line-height: 1.2em;}#sk-container-id-4 div.sk-label-container {text-align: center;}#sk-container-id-4 div.sk-container {/* jupyter's `normalize.less` sets `[hidden] { display: none; }` but bootstrap.min.css set `[hidden] { display: none !important; }` so we also need the `!important` here to be able to override the default hidden behavior on the sphinx rendered scikit-learn.org. See: https://github.com/scikit-learn/scikit-learn/issues/21755 */display: inline-block !important;position: relative;}#sk-container-id-4 div.sk-text-repr-fallback {display: none;}</style><div id=\"sk-container-id-4\" class=\"sk-top-container\"><div class=\"sk-text-repr-fallback\"><pre>MultinomialNB()</pre><b>In a Jupyter environment, please rerun this cell to show the HTML representation or trust the notebook. <br />On GitHub, the HTML representation is unable to render, please try loading this page with nbviewer.org.</b></div><div class=\"sk-container\" hidden><div class=\"sk-item\"><div class=\"sk-estimator sk-toggleable\"><input class=\"sk-toggleable__control sk-hidden--visually\" id=\"sk-estimator-id-4\" type=\"checkbox\" checked><label for=\"sk-estimator-id-4\" class=\"sk-toggleable__label sk-toggleable__label-arrow\">MultinomialNB</label><div class=\"sk-toggleable__content\"><pre>MultinomialNB()</pre></div></div></div></div></div>"
      ],
      "text/plain": [
       "MultinomialNB()"
      ]
     },
     "execution_count": 73,
     "metadata": {},
     "output_type": "execute_result"
    }
   ],
   "source": [
    "# model building\n",
    "count_mnb = MultinomialNB()\n",
    "count_mnb.fit(count_val_train.A,y_train)"
   ]
  },
  {
   "cell_type": "code",
   "execution_count": 74,
   "id": "e8f1cfde",
   "metadata": {},
   "outputs": [],
   "source": [
    "predict_count_test = count_mnb.predict(count_val_test.A)"
   ]
  },
  {
   "cell_type": "code",
   "execution_count": 75,
   "id": "85d047c0",
   "metadata": {},
   "outputs": [
    {
     "data": {
      "text/plain": [
       "0.8312"
      ]
     },
     "execution_count": 75,
     "metadata": {},
     "output_type": "execute_result"
    }
   ],
   "source": [
    "accuracy_count_test = accuracy_score(y_test,predict_count_test)\n",
    "accuracy_count_test"
   ]
  },
  {
   "cell_type": "code",
   "execution_count": 76,
   "id": "acb88f97",
   "metadata": {},
   "outputs": [],
   "source": [
    "predict_count_train = count_mnb.predict(count_val_train.A)"
   ]
  },
  {
   "cell_type": "code",
   "execution_count": 78,
   "id": "c01d67bb",
   "metadata": {},
   "outputs": [
    {
     "data": {
      "text/plain": [
       "0.8362333333333334"
      ]
     },
     "execution_count": 78,
     "metadata": {},
     "output_type": "execute_result"
    }
   ],
   "source": [
    "accuracy_count_train = accuracy_score(y_train,predict_count_train)\n",
    "accuracy_count_train"
   ]
  },
  {
   "cell_type": "code",
   "execution_count": 79,
   "id": "1acfd801",
   "metadata": {},
   "outputs": [],
   "source": [
    "# tfidf\n",
    "tfidf = TfidfVectorizer(max_features=1000,max_df = 0.95)\n",
    "tfidf_train = tfidf.fit_transform(clean_text_train)\n",
    "tfidf_test = tfidf.transform(clean_text_test)"
   ]
  },
  {
   "cell_type": "code",
   "execution_count": 80,
   "id": "ad82d82d",
   "metadata": {},
   "outputs": [
    {
     "data": {
      "text/plain": [
       "<30000x1000 sparse matrix of type '<class 'numpy.float64'>'\n",
       "\twith 1621967 stored elements in Compressed Sparse Row format>"
      ]
     },
     "execution_count": 80,
     "metadata": {},
     "output_type": "execute_result"
    }
   ],
   "source": [
    "tfidf_train"
   ]
  },
  {
   "cell_type": "code",
   "execution_count": 81,
   "id": "eeec98f0",
   "metadata": {},
   "outputs": [
    {
     "data": {
      "text/plain": [
       "<10000x1000 sparse matrix of type '<class 'numpy.float64'>'\n",
       "\twith 542915 stored elements in Compressed Sparse Row format>"
      ]
     },
     "execution_count": 81,
     "metadata": {},
     "output_type": "execute_result"
    }
   ],
   "source": [
    "tfidf_test"
   ]
  },
  {
   "cell_type": "code",
   "execution_count": 82,
   "id": "bdc2bf41",
   "metadata": {},
   "outputs": [
    {
     "data": {
      "text/plain": [
       "array([[0.        , 0.        , 0.12435322, ..., 0.        , 0.        ,\n",
       "        0.33884721],\n",
       "       [0.        , 0.        , 0.        , ..., 0.        , 0.        ,\n",
       "        0.        ],\n",
       "       [0.        , 0.        , 0.        , ..., 0.        , 0.        ,\n",
       "        0.        ],\n",
       "       ...,\n",
       "       [0.        , 0.        , 0.        , ..., 0.10010432, 0.        ,\n",
       "        0.        ],\n",
       "       [0.        , 0.        , 0.        , ..., 0.        , 0.        ,\n",
       "        0.        ],\n",
       "       [0.        , 0.        , 0.        , ..., 0.        , 0.        ,\n",
       "        0.        ]])"
      ]
     },
     "execution_count": 82,
     "metadata": {},
     "output_type": "execute_result"
    }
   ],
   "source": [
    "tfidf_train.A"
   ]
  },
  {
   "cell_type": "code",
   "execution_count": 83,
   "id": "a4aafbb4",
   "metadata": {},
   "outputs": [
    {
     "data": {
      "text/plain": [
       "array([[0.        , 0.        , 0.        , ..., 0.        , 0.        ,\n",
       "        0.        ],\n",
       "       [0.        , 0.        , 0.        , ..., 0.11644498, 0.        ,\n",
       "        0.        ],\n",
       "       [0.        , 0.        , 0.        , ..., 0.        , 0.        ,\n",
       "        0.        ],\n",
       "       ...,\n",
       "       [0.        , 0.        , 0.        , ..., 0.        , 0.        ,\n",
       "        0.        ],\n",
       "       [0.        , 0.        , 0.        , ..., 0.        , 0.        ,\n",
       "        0.        ],\n",
       "       [0.        , 0.        , 0.        , ..., 0.        , 0.        ,\n",
       "        0.        ]])"
      ]
     },
     "execution_count": 83,
     "metadata": {},
     "output_type": "execute_result"
    }
   ],
   "source": [
    "tfidf_test.A"
   ]
  },
  {
   "cell_type": "code",
   "execution_count": 84,
   "id": "fbfd36b5",
   "metadata": {},
   "outputs": [
    {
     "data": {
      "text/plain": [
       "array(['ability', 'able', 'absolutely', 'accent', 'across', 'act',\n",
       "       'acted', 'acting', 'action', 'actor', 'actress', 'actual',\n",
       "       'actually', 'adaptation', 'add', 'admit', 'adult', 'adventure',\n",
       "       'age', 'ago', 'agree', 'air', 'alien', 'alive', 'almost', 'alone',\n",
       "       'along', 'already', 'also', 'although', 'always', 'amazing',\n",
       "       'america', 'american', 'among', 'amount', 'animal', 'animation',\n",
       "       'annoying', 'another', 'answer', 'anyone', 'anything', 'anyway',\n",
       "       'apart', 'apparently', 'appear', 'appearance', 'appears',\n",
       "       'appreciate', 'army', 'around', 'art', 'aside', 'ask', 'aspect',\n",
       "       'atmosphere', 'attack', 'attempt', 'attention', 'audience',\n",
       "       'average', 'avoid', 'award', 'away', 'awesome', 'awful', 'baby',\n",
       "       'back', 'background', 'bad', 'badly', 'band', 'barely', 'based',\n",
       "       'basic', 'basically', 'battle', 'beautiful', 'beauty', 'became',\n",
       "       'become', 'becomes', 'bed', 'begin', 'beginning', 'behind',\n",
       "       'belief', 'believable', 'believe', 'best', 'better', 'beyond',\n",
       "       'big', 'biggest', 'bill', 'bit', 'bizarre', 'black', 'blood',\n",
       "       'blue', 'body', 'book', 'bored', 'boring', 'bother', 'box', 'boy',\n",
       "       'brain', 'break', 'brilliant', 'bring', 'brings', 'british',\n",
       "       'brother', 'brought', 'budget', 'building', 'bunch', 'business',\n",
       "       'buy', 'call', 'called', 'came', 'camera', 'camp', 'car', 'care',\n",
       "       'career', 'carry', 'cartoon', 'case', 'cast', 'casting', 'cat',\n",
       "       'catch', 'caught', 'century', 'certain', 'certainly', 'chance',\n",
       "       'change', 'channel', 'character', 'chase', 'cheap', 'check',\n",
       "       'cheesy', 'chemistry', 'child', 'choice', 'christmas', 'cinema',\n",
       "       'cinematography', 'city', 'class', 'classic', 'clear', 'clearly',\n",
       "       'clever', 'cliche', 'close', 'cold', 'college', 'color', 'come',\n",
       "       'comedy', 'comic', 'coming', 'comment', 'common', 'company',\n",
       "       'compared', 'complete', 'completely', 'computer', 'concept',\n",
       "       'considered', 'considering', 'control', 'convincing', 'cool',\n",
       "       'cop', 'copy', 'costume', 'could', 'country', 'couple', 'course',\n",
       "       'cover', 'crap', 'crazy', 'create', 'created', 'creature',\n",
       "       'credit', 'creepy', 'crew', 'crime', 'critic', 'cry', 'culture',\n",
       "       'cut', 'cute', 'dance', 'dancing', 'dark', 'daughter', 'david',\n",
       "       'day', 'dead', 'deal', 'death', 'decent', 'decide', 'decided',\n",
       "       'decides', 'deep', 'definitely', 'depth', 'deserves', 'despite',\n",
       "       'detail', 'development', 'dialog', 'dialogue', 'die', 'died',\n",
       "       'different', 'difficult', 'directed', 'directing', 'direction',\n",
       "       'director', 'disappointed', 'disney', 'doctor', 'documentary',\n",
       "       'dog', 'done', 'door', 'doubt', 'drama', 'dramatic', 'dream',\n",
       "       'drive', 'drug', 'due', 'dull', 'dumb', 'dvd', 'earlier', 'early',\n",
       "       'earth', 'easily', 'easy', 'editing', 'effect', 'effort', 'either',\n",
       "       'element', 'else', 'emotion', 'emotional', 'end', 'ended',\n",
       "       'ending', 'english', 'enjoy', 'enjoyable', 'enjoyed', 'enough',\n",
       "       'entertaining', 'entertainment', 'entire', 'entirely', 'episode',\n",
       "       'era', 'escape', 'especially', 'etc', 'even', 'event',\n",
       "       'eventually', 'ever', 'every', 'everyone', 'everything', 'evil',\n",
       "       'exactly', 'example', 'excellent', 'except', 'exciting', 'expect',\n",
       "       'expected', 'expecting', 'experience', 'extra', 'extremely', 'eye',\n",
       "       'face', 'fact', 'fails', 'fair', 'fairly', 'fake', 'fall',\n",
       "       'familiar', 'family', 'famous', 'fan', 'fantastic', 'fantasy',\n",
       "       'far', 'fast', 'father', 'favorite', 'fear', 'feature', 'feel',\n",
       "       'feeling', 'felt', 'female', 'fiction', 'fight', 'fighting',\n",
       "       'figure', 'filled', 'film', 'filmed', 'filmmaker', 'final',\n",
       "       'finally', 'find', 'fine', 'fire', 'first', 'fit', 'five', 'flat',\n",
       "       'flaw', 'flick', 'focus', 'follow', 'following', 'follows',\n",
       "       'footage', 'force', 'forced', 'forget', 'form', 'former',\n",
       "       'forward', 'found', 'four', 'free', 'french', 'friend', 'front',\n",
       "       'full', 'fun', 'funny', 'future', 'game', 'gang', 'gave', 'gay',\n",
       "       'general', 'genius', 'genre', 'george', 'german', 'get', 'getting',\n",
       "       'ghost', 'girl', 'girlfriend', 'give', 'given', 'giving', 'go',\n",
       "       'god', 'going', 'gone', 'good', 'gore', 'got', 'great', 'greatest',\n",
       "       'group', 'guess', 'gun', 'guy', 'hair', 'half', 'hand', 'happen',\n",
       "       'happened', 'happens', 'happy', 'hard', 'hardly', 'hate', 'head',\n",
       "       'hear', 'heard', 'heart', 'hell', 'help', 'hero', 'high', 'highly',\n",
       "       'hilarious', 'history', 'hit', 'hold', 'hole', 'hollywood', 'home',\n",
       "       'honestly', 'hope', 'horrible', 'horror', 'hot', 'hour', 'house',\n",
       "       'however', 'huge', 'human', 'humor', 'humour', 'husband', 'idea',\n",
       "       'image', 'imagine', 'imdb', 'important', 'including', 'incredible',\n",
       "       'incredibly', 'indeed', 'indian', 'inside', 'instead',\n",
       "       'intelligent', 'interest', 'interested', 'interesting', 'involved',\n",
       "       'involving', 'island', 'issue', 'italian', 'jack', 'james', 'jane',\n",
       "       'japanese', 'job', 'joe', 'john', 'joke', 'journey', 'keep',\n",
       "       'kept', 'kid', 'kill', 'killed', 'killer', 'killing', 'kind',\n",
       "       'king', 'knew', 'know', 'known', 'lack', 'lady', 'lame', 'land',\n",
       "       'language', 'large', 'last', 'late', 'later', 'laugh', 'laughing',\n",
       "       'law', 'le', 'lead', 'leading', 'leaf', 'learn', 'least', 'leave',\n",
       "       'lee', 'left', 'let', 'level', 'lie', 'life', 'light', 'like',\n",
       "       'liked', 'line', 'list', 'literally', 'little', 'live', 'living',\n",
       "       'local', 'location', 'long', 'look', 'looked', 'looking', 'lost',\n",
       "       'lot', 'love', 'loved', 'lover', 'low', 'mad', 'made', 'main',\n",
       "       'major', 'make', 'maker', 'making', 'male', 'man', 'manages',\n",
       "       'many', 'mark', 'married', 'master', 'masterpiece', 'match',\n",
       "       'material', 'matter', 'may', 'maybe', 'mean', 'meaning', 'meant',\n",
       "       'meet', 'member', 'memorable', 'memory', 'men', 'mention',\n",
       "       'mentioned', 'mess', 'message', 'michael', 'middle', 'might',\n",
       "       'million', 'mind', 'minute', 'miss', 'missed', 'missing',\n",
       "       'mistake', 'modern', 'moment', 'money', 'monster', 'mostly',\n",
       "       'mother', 'move', 'movie', 'moving', 'much', 'murder', 'music',\n",
       "       'musical', 'must', 'mystery', 'name', 'named', 'nature', 'near',\n",
       "       'nearly', 'need', 'needed', 'neither', 'never', 'new', 'next',\n",
       "       'nice', 'night', 'none', 'nor', 'not', 'note', 'nothing', 'novel',\n",
       "       'nudity', 'number', 'obvious', 'obviously', 'odd', 'offer',\n",
       "       'office', 'often', 'okay', 'old', 'older', 'one', 'open',\n",
       "       'opening', 'opinion', 'order', 'original', 'oscar', 'others',\n",
       "       'otherwise', 'outside', 'overall', 'pace', 'parent', 'park',\n",
       "       'part', 'particular', 'particularly', 'party', 'past', 'pathetic',\n",
       "       'paul', 'pay', 'people', 'perfect', 'perfectly', 'performance',\n",
       "       'perhaps', 'period', 'person', 'personal', 'peter', 'pick',\n",
       "       'picture', 'piece', 'place', 'plain', 'plan', 'planet', 'play',\n",
       "       'played', 'player', 'playing', 'please', 'plenty', 'plot', 'plus',\n",
       "       'point', 'pointless', 'police', 'political', 'poor', 'poorly',\n",
       "       'popular', 'portrayal', 'portrayed', 'positive', 'possible',\n",
       "       'possibly', 'potential', 'power', 'powerful', 'predictable',\n",
       "       'premise', 'present', 'pretty', 'previous', 'probably', 'problem',\n",
       "       'produced', 'producer', 'production', 'project', 'public', 'pull',\n",
       "       'pure', 'purpose', 'put', 'quality', 'question', 'quickly',\n",
       "       'quite', 'rate', 'rather', 'rating', 'read', 'reading', 'real',\n",
       "       'realistic', 'reality', 'realize', 'really', 'reason', 'recent',\n",
       "       'recently', 'recommend', 'recommended', 'red', 'relationship',\n",
       "       'release', 'released', 'remake', 'remember', 'rent', 'respect',\n",
       "       'rest', 'result', 'return', 'review', 'reviewer', 'rich',\n",
       "       'richard', 'ride', 'ridiculous', 'right', 'road', 'robert', 'rock',\n",
       "       'role', 'romance', 'romantic', 'room', 'run', 'running', 'sad',\n",
       "       'sadly', 'said', 'save', 'saw', 'say', 'saying', 'scary', 'scene',\n",
       "       'school', 'science', 'scientist', 'score', 'scott', 'screen',\n",
       "       'screenplay', 'script', 'season', 'second', 'secret', 'see',\n",
       "       'seeing', 'seem', 'seemed', 'seems', 'seen', 'sense', 'sequel',\n",
       "       'sequence', 'series', 'serious', 'seriously', 'set', 'setting',\n",
       "       'several', 'sex', 'sexual', 'shame', 'ship', 'shoot', 'shooting',\n",
       "       'short', 'shot', 'show', 'showing', 'shown', 'sick', 'side',\n",
       "       'silly', 'similar', 'simple', 'simply', 'since', 'singing',\n",
       "       'single', 'sister', 'sit', 'situation', 'slightly', 'slow',\n",
       "       'small', 'social', 'society', 'soldier', 'solid', 'somehow',\n",
       "       'someone', 'something', 'sometimes', 'somewhat', 'somewhere',\n",
       "       'son', 'song', 'soon', 'sorry', 'sort', 'soul', 'sound',\n",
       "       'soundtrack', 'space', 'speak', 'special', 'spend', 'spent',\n",
       "       'spirit', 'spoiler', 'stage', 'stand', 'standard', 'star', 'start',\n",
       "       'started', 'state', 'stay', 'stick', 'still', 'stop', 'store',\n",
       "       'story', 'storyline', 'straight', 'strange', 'street', 'strong',\n",
       "       'struggle', 'student', 'studio', 'stuff', 'stupid', 'style',\n",
       "       'subject', 'success', 'successful', 'suddenly', 'superb',\n",
       "       'supporting', 'supposed', 'sure', 'surprise', 'surprised',\n",
       "       'suspense', 'sweet', 'take', 'taken', 'taking', 'tale', 'talent',\n",
       "       'talented', 'talk', 'talking', 'taste', 'team', 'teen', 'teenager',\n",
       "       'television', 'tell', 'telling', 'ten', 'tension', 'term',\n",
       "       'terrible', 'thanks', 'theater', 'theme', 'thing', 'think',\n",
       "       'thinking', 'third', 'though', 'thought', 'three', 'thriller',\n",
       "       'throughout', 'throw', 'time', 'title', 'today', 'together',\n",
       "       'told', 'tom', 'tone', 'took', 'top', 'total', 'totally', 'touch',\n",
       "       'towards', 'town', 'track', 'train', 'tried', 'trip', 'trouble',\n",
       "       'true', 'truly', 'truth', 'try', 'trying', 'turn', 'turned',\n",
       "       'twist', 'two', 'type', 'typical', 'ultimately', 'understand',\n",
       "       'unfortunately', 'unique', 'unless', 'unlike', 'upon', 'us', 'use',\n",
       "       'used', 'using', 'usual', 'usually', 'value', 'vampire', 'van',\n",
       "       'various', 'version', 'victim', 'video', 'view', 'viewer',\n",
       "       'viewing', 'villain', 'violence', 'violent', 'visual', 'voice',\n",
       "       'wait', 'waiting', 'walk', 'want', 'wanted', 'war', 'waste',\n",
       "       'wasted', 'watch', 'watched', 'watching', 'water', 'way', 'weak',\n",
       "       'week', 'weird', 'well', 'went', 'western', 'whatever', 'whether',\n",
       "       'white', 'whole', 'whose', 'wife', 'william', 'win', 'wish',\n",
       "       'within', 'without', 'woman', 'wonder', 'wonderful', 'wood',\n",
       "       'word', 'work', 'worked', 'working', 'world', 'worse', 'worst',\n",
       "       'worth', 'would', 'write', 'writer', 'writing', 'written', 'wrong',\n",
       "       'wrote', 'yeah', 'year', 'yes', 'yet', 'york', 'young', 'younger',\n",
       "       'zombie'], dtype=object)"
      ]
     },
     "execution_count": 84,
     "metadata": {},
     "output_type": "execute_result"
    }
   ],
   "source": [
    "y = tfidf.get_feature_names_out()\n",
    "y"
   ]
  },
  {
   "cell_type": "code",
   "execution_count": 85,
   "id": "397e7a26",
   "metadata": {},
   "outputs": [
    {
     "data": {
      "text/plain": [
       "1000"
      ]
     },
     "execution_count": 85,
     "metadata": {},
     "output_type": "execute_result"
    }
   ],
   "source": [
    "len(y)"
   ]
  },
  {
   "cell_type": "code",
   "execution_count": 86,
   "id": "ce6a25c6",
   "metadata": {},
   "outputs": [
    {
     "data": {
      "text/html": [
       "<div>\n",
       "<style scoped>\n",
       "    .dataframe tbody tr th:only-of-type {\n",
       "        vertical-align: middle;\n",
       "    }\n",
       "\n",
       "    .dataframe tbody tr th {\n",
       "        vertical-align: top;\n",
       "    }\n",
       "\n",
       "    .dataframe thead th {\n",
       "        text-align: right;\n",
       "    }\n",
       "</style>\n",
       "<table border=\"1\" class=\"dataframe\">\n",
       "  <thead>\n",
       "    <tr style=\"text-align: right;\">\n",
       "      <th></th>\n",
       "      <th>ability</th>\n",
       "      <th>able</th>\n",
       "      <th>absolutely</th>\n",
       "      <th>accent</th>\n",
       "      <th>across</th>\n",
       "      <th>act</th>\n",
       "      <th>acted</th>\n",
       "      <th>acting</th>\n",
       "      <th>action</th>\n",
       "      <th>actor</th>\n",
       "      <th>...</th>\n",
       "      <th>wrong</th>\n",
       "      <th>wrote</th>\n",
       "      <th>yeah</th>\n",
       "      <th>year</th>\n",
       "      <th>yes</th>\n",
       "      <th>yet</th>\n",
       "      <th>york</th>\n",
       "      <th>young</th>\n",
       "      <th>younger</th>\n",
       "      <th>zombie</th>\n",
       "    </tr>\n",
       "  </thead>\n",
       "  <tbody>\n",
       "    <tr>\n",
       "      <th>0</th>\n",
       "      <td>0.0</td>\n",
       "      <td>0.0</td>\n",
       "      <td>0.124353</td>\n",
       "      <td>0.00000</td>\n",
       "      <td>0.000000</td>\n",
       "      <td>0.000000</td>\n",
       "      <td>0.000000</td>\n",
       "      <td>0.081714</td>\n",
       "      <td>0.0</td>\n",
       "      <td>0.000000</td>\n",
       "      <td>...</td>\n",
       "      <td>0.0</td>\n",
       "      <td>0.0</td>\n",
       "      <td>0.0</td>\n",
       "      <td>0.000000</td>\n",
       "      <td>0.000000</td>\n",
       "      <td>0.0</td>\n",
       "      <td>0.0</td>\n",
       "      <td>0.000000</td>\n",
       "      <td>0.0</td>\n",
       "      <td>0.338847</td>\n",
       "    </tr>\n",
       "    <tr>\n",
       "      <th>1</th>\n",
       "      <td>0.0</td>\n",
       "      <td>0.0</td>\n",
       "      <td>0.000000</td>\n",
       "      <td>0.00000</td>\n",
       "      <td>0.000000</td>\n",
       "      <td>0.000000</td>\n",
       "      <td>0.000000</td>\n",
       "      <td>0.000000</td>\n",
       "      <td>0.0</td>\n",
       "      <td>0.000000</td>\n",
       "      <td>...</td>\n",
       "      <td>0.0</td>\n",
       "      <td>0.0</td>\n",
       "      <td>0.0</td>\n",
       "      <td>0.000000</td>\n",
       "      <td>0.000000</td>\n",
       "      <td>0.0</td>\n",
       "      <td>0.0</td>\n",
       "      <td>0.000000</td>\n",
       "      <td>0.0</td>\n",
       "      <td>0.000000</td>\n",
       "    </tr>\n",
       "    <tr>\n",
       "      <th>2</th>\n",
       "      <td>0.0</td>\n",
       "      <td>0.0</td>\n",
       "      <td>0.000000</td>\n",
       "      <td>0.00000</td>\n",
       "      <td>0.110929</td>\n",
       "      <td>0.000000</td>\n",
       "      <td>0.000000</td>\n",
       "      <td>0.000000</td>\n",
       "      <td>0.0</td>\n",
       "      <td>0.000000</td>\n",
       "      <td>...</td>\n",
       "      <td>0.0</td>\n",
       "      <td>0.0</td>\n",
       "      <td>0.0</td>\n",
       "      <td>0.000000</td>\n",
       "      <td>0.000000</td>\n",
       "      <td>0.0</td>\n",
       "      <td>0.0</td>\n",
       "      <td>0.000000</td>\n",
       "      <td>0.0</td>\n",
       "      <td>0.000000</td>\n",
       "    </tr>\n",
       "    <tr>\n",
       "      <th>3</th>\n",
       "      <td>0.0</td>\n",
       "      <td>0.0</td>\n",
       "      <td>0.000000</td>\n",
       "      <td>0.00000</td>\n",
       "      <td>0.000000</td>\n",
       "      <td>0.000000</td>\n",
       "      <td>0.000000</td>\n",
       "      <td>0.080611</td>\n",
       "      <td>0.0</td>\n",
       "      <td>0.000000</td>\n",
       "      <td>...</td>\n",
       "      <td>0.0</td>\n",
       "      <td>0.0</td>\n",
       "      <td>0.0</td>\n",
       "      <td>0.000000</td>\n",
       "      <td>0.000000</td>\n",
       "      <td>0.0</td>\n",
       "      <td>0.0</td>\n",
       "      <td>0.000000</td>\n",
       "      <td>0.0</td>\n",
       "      <td>0.000000</td>\n",
       "    </tr>\n",
       "    <tr>\n",
       "      <th>4</th>\n",
       "      <td>0.0</td>\n",
       "      <td>0.0</td>\n",
       "      <td>0.000000</td>\n",
       "      <td>0.00000</td>\n",
       "      <td>0.000000</td>\n",
       "      <td>0.000000</td>\n",
       "      <td>0.000000</td>\n",
       "      <td>0.000000</td>\n",
       "      <td>0.0</td>\n",
       "      <td>0.000000</td>\n",
       "      <td>...</td>\n",
       "      <td>0.0</td>\n",
       "      <td>0.0</td>\n",
       "      <td>0.0</td>\n",
       "      <td>0.000000</td>\n",
       "      <td>0.000000</td>\n",
       "      <td>0.0</td>\n",
       "      <td>0.0</td>\n",
       "      <td>0.000000</td>\n",
       "      <td>0.0</td>\n",
       "      <td>0.000000</td>\n",
       "    </tr>\n",
       "    <tr>\n",
       "      <th>...</th>\n",
       "      <td>...</td>\n",
       "      <td>...</td>\n",
       "      <td>...</td>\n",
       "      <td>...</td>\n",
       "      <td>...</td>\n",
       "      <td>...</td>\n",
       "      <td>...</td>\n",
       "      <td>...</td>\n",
       "      <td>...</td>\n",
       "      <td>...</td>\n",
       "      <td>...</td>\n",
       "      <td>...</td>\n",
       "      <td>...</td>\n",
       "      <td>...</td>\n",
       "      <td>...</td>\n",
       "      <td>...</td>\n",
       "      <td>...</td>\n",
       "      <td>...</td>\n",
       "      <td>...</td>\n",
       "      <td>...</td>\n",
       "      <td>...</td>\n",
       "    </tr>\n",
       "    <tr>\n",
       "      <th>29995</th>\n",
       "      <td>0.0</td>\n",
       "      <td>0.0</td>\n",
       "      <td>0.000000</td>\n",
       "      <td>0.00000</td>\n",
       "      <td>0.000000</td>\n",
       "      <td>0.000000</td>\n",
       "      <td>0.000000</td>\n",
       "      <td>0.000000</td>\n",
       "      <td>0.0</td>\n",
       "      <td>0.086966</td>\n",
       "      <td>...</td>\n",
       "      <td>0.0</td>\n",
       "      <td>0.0</td>\n",
       "      <td>0.0</td>\n",
       "      <td>0.000000</td>\n",
       "      <td>0.000000</td>\n",
       "      <td>0.0</td>\n",
       "      <td>0.0</td>\n",
       "      <td>0.108392</td>\n",
       "      <td>0.0</td>\n",
       "      <td>0.000000</td>\n",
       "    </tr>\n",
       "    <tr>\n",
       "      <th>29996</th>\n",
       "      <td>0.0</td>\n",
       "      <td>0.0</td>\n",
       "      <td>0.000000</td>\n",
       "      <td>0.00000</td>\n",
       "      <td>0.000000</td>\n",
       "      <td>0.000000</td>\n",
       "      <td>0.000000</td>\n",
       "      <td>0.000000</td>\n",
       "      <td>0.0</td>\n",
       "      <td>0.000000</td>\n",
       "      <td>...</td>\n",
       "      <td>0.0</td>\n",
       "      <td>0.0</td>\n",
       "      <td>0.0</td>\n",
       "      <td>0.000000</td>\n",
       "      <td>0.000000</td>\n",
       "      <td>0.0</td>\n",
       "      <td>0.0</td>\n",
       "      <td>0.000000</td>\n",
       "      <td>0.0</td>\n",
       "      <td>0.000000</td>\n",
       "    </tr>\n",
       "    <tr>\n",
       "      <th>29997</th>\n",
       "      <td>0.0</td>\n",
       "      <td>0.0</td>\n",
       "      <td>0.000000</td>\n",
       "      <td>0.00000</td>\n",
       "      <td>0.000000</td>\n",
       "      <td>0.000000</td>\n",
       "      <td>0.000000</td>\n",
       "      <td>0.000000</td>\n",
       "      <td>0.0</td>\n",
       "      <td>0.000000</td>\n",
       "      <td>...</td>\n",
       "      <td>0.0</td>\n",
       "      <td>0.0</td>\n",
       "      <td>0.0</td>\n",
       "      <td>0.082646</td>\n",
       "      <td>0.000000</td>\n",
       "      <td>0.0</td>\n",
       "      <td>0.0</td>\n",
       "      <td>0.100104</td>\n",
       "      <td>0.0</td>\n",
       "      <td>0.000000</td>\n",
       "    </tr>\n",
       "    <tr>\n",
       "      <th>29998</th>\n",
       "      <td>0.0</td>\n",
       "      <td>0.0</td>\n",
       "      <td>0.000000</td>\n",
       "      <td>0.28796</td>\n",
       "      <td>0.000000</td>\n",
       "      <td>0.077717</td>\n",
       "      <td>0.094257</td>\n",
       "      <td>0.151350</td>\n",
       "      <td>0.0</td>\n",
       "      <td>0.103207</td>\n",
       "      <td>...</td>\n",
       "      <td>0.0</td>\n",
       "      <td>0.0</td>\n",
       "      <td>0.0</td>\n",
       "      <td>0.053101</td>\n",
       "      <td>0.078563</td>\n",
       "      <td>0.0</td>\n",
       "      <td>0.0</td>\n",
       "      <td>0.000000</td>\n",
       "      <td>0.0</td>\n",
       "      <td>0.000000</td>\n",
       "    </tr>\n",
       "    <tr>\n",
       "      <th>29999</th>\n",
       "      <td>0.0</td>\n",
       "      <td>0.0</td>\n",
       "      <td>0.000000</td>\n",
       "      <td>0.00000</td>\n",
       "      <td>0.000000</td>\n",
       "      <td>0.000000</td>\n",
       "      <td>0.000000</td>\n",
       "      <td>0.000000</td>\n",
       "      <td>0.0</td>\n",
       "      <td>0.000000</td>\n",
       "      <td>...</td>\n",
       "      <td>0.0</td>\n",
       "      <td>0.0</td>\n",
       "      <td>0.0</td>\n",
       "      <td>0.095689</td>\n",
       "      <td>0.000000</td>\n",
       "      <td>0.0</td>\n",
       "      <td>0.0</td>\n",
       "      <td>0.000000</td>\n",
       "      <td>0.0</td>\n",
       "      <td>0.000000</td>\n",
       "    </tr>\n",
       "  </tbody>\n",
       "</table>\n",
       "<p>30000 rows × 1000 columns</p>\n",
       "</div>"
      ],
      "text/plain": [
       "       ability  able  absolutely   accent    across       act     acted  \\\n",
       "0          0.0   0.0    0.124353  0.00000  0.000000  0.000000  0.000000   \n",
       "1          0.0   0.0    0.000000  0.00000  0.000000  0.000000  0.000000   \n",
       "2          0.0   0.0    0.000000  0.00000  0.110929  0.000000  0.000000   \n",
       "3          0.0   0.0    0.000000  0.00000  0.000000  0.000000  0.000000   \n",
       "4          0.0   0.0    0.000000  0.00000  0.000000  0.000000  0.000000   \n",
       "...        ...   ...         ...      ...       ...       ...       ...   \n",
       "29995      0.0   0.0    0.000000  0.00000  0.000000  0.000000  0.000000   \n",
       "29996      0.0   0.0    0.000000  0.00000  0.000000  0.000000  0.000000   \n",
       "29997      0.0   0.0    0.000000  0.00000  0.000000  0.000000  0.000000   \n",
       "29998      0.0   0.0    0.000000  0.28796  0.000000  0.077717  0.094257   \n",
       "29999      0.0   0.0    0.000000  0.00000  0.000000  0.000000  0.000000   \n",
       "\n",
       "         acting  action     actor  ...  wrong  wrote  yeah      year  \\\n",
       "0      0.081714     0.0  0.000000  ...    0.0    0.0   0.0  0.000000   \n",
       "1      0.000000     0.0  0.000000  ...    0.0    0.0   0.0  0.000000   \n",
       "2      0.000000     0.0  0.000000  ...    0.0    0.0   0.0  0.000000   \n",
       "3      0.080611     0.0  0.000000  ...    0.0    0.0   0.0  0.000000   \n",
       "4      0.000000     0.0  0.000000  ...    0.0    0.0   0.0  0.000000   \n",
       "...         ...     ...       ...  ...    ...    ...   ...       ...   \n",
       "29995  0.000000     0.0  0.086966  ...    0.0    0.0   0.0  0.000000   \n",
       "29996  0.000000     0.0  0.000000  ...    0.0    0.0   0.0  0.000000   \n",
       "29997  0.000000     0.0  0.000000  ...    0.0    0.0   0.0  0.082646   \n",
       "29998  0.151350     0.0  0.103207  ...    0.0    0.0   0.0  0.053101   \n",
       "29999  0.000000     0.0  0.000000  ...    0.0    0.0   0.0  0.095689   \n",
       "\n",
       "            yes  yet  york     young  younger    zombie  \n",
       "0      0.000000  0.0   0.0  0.000000      0.0  0.338847  \n",
       "1      0.000000  0.0   0.0  0.000000      0.0  0.000000  \n",
       "2      0.000000  0.0   0.0  0.000000      0.0  0.000000  \n",
       "3      0.000000  0.0   0.0  0.000000      0.0  0.000000  \n",
       "4      0.000000  0.0   0.0  0.000000      0.0  0.000000  \n",
       "...         ...  ...   ...       ...      ...       ...  \n",
       "29995  0.000000  0.0   0.0  0.108392      0.0  0.000000  \n",
       "29996  0.000000  0.0   0.0  0.000000      0.0  0.000000  \n",
       "29997  0.000000  0.0   0.0  0.100104      0.0  0.000000  \n",
       "29998  0.078563  0.0   0.0  0.000000      0.0  0.000000  \n",
       "29999  0.000000  0.0   0.0  0.000000      0.0  0.000000  \n",
       "\n",
       "[30000 rows x 1000 columns]"
      ]
     },
     "execution_count": 86,
     "metadata": {},
     "output_type": "execute_result"
    }
   ],
   "source": [
    "pd.DataFrame(tfidf_train.A,columns=y)"
   ]
  },
  {
   "cell_type": "code",
   "execution_count": 87,
   "id": "48a7cb6b",
   "metadata": {},
   "outputs": [
    {
     "data": {
      "text/html": [
       "<style>#sk-container-id-5 {color: black;}#sk-container-id-5 pre{padding: 0;}#sk-container-id-5 div.sk-toggleable {background-color: white;}#sk-container-id-5 label.sk-toggleable__label {cursor: pointer;display: block;width: 100%;margin-bottom: 0;padding: 0.3em;box-sizing: border-box;text-align: center;}#sk-container-id-5 label.sk-toggleable__label-arrow:before {content: \"▸\";float: left;margin-right: 0.25em;color: #696969;}#sk-container-id-5 label.sk-toggleable__label-arrow:hover:before {color: black;}#sk-container-id-5 div.sk-estimator:hover label.sk-toggleable__label-arrow:before {color: black;}#sk-container-id-5 div.sk-toggleable__content {max-height: 0;max-width: 0;overflow: hidden;text-align: left;background-color: #f0f8ff;}#sk-container-id-5 div.sk-toggleable__content pre {margin: 0.2em;color: black;border-radius: 0.25em;background-color: #f0f8ff;}#sk-container-id-5 input.sk-toggleable__control:checked~div.sk-toggleable__content {max-height: 200px;max-width: 100%;overflow: auto;}#sk-container-id-5 input.sk-toggleable__control:checked~label.sk-toggleable__label-arrow:before {content: \"▾\";}#sk-container-id-5 div.sk-estimator input.sk-toggleable__control:checked~label.sk-toggleable__label {background-color: #d4ebff;}#sk-container-id-5 div.sk-label input.sk-toggleable__control:checked~label.sk-toggleable__label {background-color: #d4ebff;}#sk-container-id-5 input.sk-hidden--visually {border: 0;clip: rect(1px 1px 1px 1px);clip: rect(1px, 1px, 1px, 1px);height: 1px;margin: -1px;overflow: hidden;padding: 0;position: absolute;width: 1px;}#sk-container-id-5 div.sk-estimator {font-family: monospace;background-color: #f0f8ff;border: 1px dotted black;border-radius: 0.25em;box-sizing: border-box;margin-bottom: 0.5em;}#sk-container-id-5 div.sk-estimator:hover {background-color: #d4ebff;}#sk-container-id-5 div.sk-parallel-item::after {content: \"\";width: 100%;border-bottom: 1px solid gray;flex-grow: 1;}#sk-container-id-5 div.sk-label:hover label.sk-toggleable__label {background-color: #d4ebff;}#sk-container-id-5 div.sk-serial::before {content: \"\";position: absolute;border-left: 1px solid gray;box-sizing: border-box;top: 0;bottom: 0;left: 50%;z-index: 0;}#sk-container-id-5 div.sk-serial {display: flex;flex-direction: column;align-items: center;background-color: white;padding-right: 0.2em;padding-left: 0.2em;position: relative;}#sk-container-id-5 div.sk-item {position: relative;z-index: 1;}#sk-container-id-5 div.sk-parallel {display: flex;align-items: stretch;justify-content: center;background-color: white;position: relative;}#sk-container-id-5 div.sk-item::before, #sk-container-id-5 div.sk-parallel-item::before {content: \"\";position: absolute;border-left: 1px solid gray;box-sizing: border-box;top: 0;bottom: 0;left: 50%;z-index: -1;}#sk-container-id-5 div.sk-parallel-item {display: flex;flex-direction: column;z-index: 1;position: relative;background-color: white;}#sk-container-id-5 div.sk-parallel-item:first-child::after {align-self: flex-end;width: 50%;}#sk-container-id-5 div.sk-parallel-item:last-child::after {align-self: flex-start;width: 50%;}#sk-container-id-5 div.sk-parallel-item:only-child::after {width: 0;}#sk-container-id-5 div.sk-dashed-wrapped {border: 1px dashed gray;margin: 0 0.4em 0.5em 0.4em;box-sizing: border-box;padding-bottom: 0.4em;background-color: white;}#sk-container-id-5 div.sk-label label {font-family: monospace;font-weight: bold;display: inline-block;line-height: 1.2em;}#sk-container-id-5 div.sk-label-container {text-align: center;}#sk-container-id-5 div.sk-container {/* jupyter's `normalize.less` sets `[hidden] { display: none; }` but bootstrap.min.css set `[hidden] { display: none !important; }` so we also need the `!important` here to be able to override the default hidden behavior on the sphinx rendered scikit-learn.org. See: https://github.com/scikit-learn/scikit-learn/issues/21755 */display: inline-block !important;position: relative;}#sk-container-id-5 div.sk-text-repr-fallback {display: none;}</style><div id=\"sk-container-id-5\" class=\"sk-top-container\"><div class=\"sk-text-repr-fallback\"><pre>MultinomialNB()</pre><b>In a Jupyter environment, please rerun this cell to show the HTML representation or trust the notebook. <br />On GitHub, the HTML representation is unable to render, please try loading this page with nbviewer.org.</b></div><div class=\"sk-container\" hidden><div class=\"sk-item\"><div class=\"sk-estimator sk-toggleable\"><input class=\"sk-toggleable__control sk-hidden--visually\" id=\"sk-estimator-id-5\" type=\"checkbox\" checked><label for=\"sk-estimator-id-5\" class=\"sk-toggleable__label sk-toggleable__label-arrow\">MultinomialNB</label><div class=\"sk-toggleable__content\"><pre>MultinomialNB()</pre></div></div></div></div></div>"
      ],
      "text/plain": [
       "MultinomialNB()"
      ]
     },
     "execution_count": 87,
     "metadata": {},
     "output_type": "execute_result"
    }
   ],
   "source": [
    "# Build model\n",
    "tfidf_mnb = MultinomialNB()\n",
    "tfidf_mnb.fit(tfidf_train.A,y_train)"
   ]
  },
  {
   "cell_type": "code",
   "execution_count": 88,
   "id": "20020f72",
   "metadata": {},
   "outputs": [],
   "source": [
    "predict_tfidf_test = tfidf_mnb.predict(tfidf_test)"
   ]
  },
  {
   "cell_type": "code",
   "execution_count": 89,
   "id": "c00f2e10",
   "metadata": {},
   "outputs": [
    {
     "data": {
      "text/plain": [
       "0.8403"
      ]
     },
     "execution_count": 89,
     "metadata": {},
     "output_type": "execute_result"
    }
   ],
   "source": [
    "accuracy_tfidf_test = accuracy_score(y_test,predict_tfidf_test)\n",
    "accuracy_tfidf_test"
   ]
  },
  {
   "cell_type": "code",
   "execution_count": 90,
   "id": "e993900f",
   "metadata": {},
   "outputs": [],
   "source": [
    "predict_tfidf_train = tfidf_mnb.predict(tfidf_train)"
   ]
  },
  {
   "cell_type": "code",
   "execution_count": 91,
   "id": "1d18be2c",
   "metadata": {},
   "outputs": [
    {
     "data": {
      "text/plain": [
       "0.8428666666666667"
      ]
     },
     "execution_count": 91,
     "metadata": {},
     "output_type": "execute_result"
    }
   ],
   "source": [
    "accuracy_tfidf_train = accuracy_score(y_train,predict_tfidf_train)\n",
    "accuracy_tfidf_train"
   ]
  },
  {
   "cell_type": "markdown",
   "id": "885ee672",
   "metadata": {},
   "source": [
    "#### ++++++++++++++++++++++++++++++++++++++++++++++++++++++++++++++++++++++++++++++++++++++++++++++++++++++++++++++++++++++"
   ]
  },
  {
   "cell_type": "markdown",
   "id": "9aea3b8d",
   "metadata": {},
   "source": [
    "#### ngrams"
   ]
  },
  {
   "cell_type": "code",
   "execution_count": 92,
   "id": "fb1f1eaf",
   "metadata": {},
   "outputs": [],
   "source": [
    "from nltk.util import ngrams"
   ]
  },
  {
   "cell_type": "code",
   "execution_count": 93,
   "id": "080a6de6",
   "metadata": {},
   "outputs": [
    {
     "data": {
      "text/plain": [
       "5406     [slasher, well, like, horror, definitely, one,...\n",
       "29810    [based, elmore, leonard, violent, intelligent,...\n",
       "9966     [fourth, feature, film, marc, recha, third, ma...\n",
       "27442    [famous, movie, subject, freudian, analysis, p...\n",
       "8522     [former, submariner, one, worst, submarine, mo...\n",
       "                               ...                        \n",
       "28667    [one, best, film, seen, year, not, gwyneth, pa...\n",
       "4983     [movie, really, nothing, besides, admittedly, ...\n",
       "11444    [action, western, james, steart, lead, star, c...\n",
       "74       [picking, along, rest, marx, brother, box, set...\n",
       "17915    [film, funny, film, violence, bad, acting, wel...\n",
       "Name: text, Length: 10000, dtype: object"
      ]
     },
     "execution_count": 93,
     "metadata": {},
     "output_type": "execute_result"
    }
   ],
   "source": [
    "def splitting_dataframe(data):\n",
    "    token = data.split()\n",
    "    return token\n",
    "data = clean_text_test.apply(splitting_dataframe)\n",
    "data"
   ]
  },
  {
   "cell_type": "code",
   "execution_count": 94,
   "id": "f1254c13",
   "metadata": {},
   "outputs": [
    {
     "data": {
      "text/plain": [
       "27434    [firstly, huge, fan, crap, film, grade, always...\n",
       "13895    [not, much, film, big, budget, child, televisi...\n",
       "38835    [delightful, film, accompanied, composer, rach...\n",
       "30654    [like, keep, review, short, simple, pretty, mu...\n",
       "12278    [remember, hearing, movie, played, nearly, eve...\n",
       "                               ...                        \n",
       "31962    [film, grab, opening, scene, never, let, watch...\n",
       "23452    [not, masterpiece, like, godfather, not, purpo...\n",
       "23775    [jefferey, dahmer, one, sick, guy, not, much, ...\n",
       "37135    [unfortunately, showing, star, movie, thailand...\n",
       "27098    [johnny, dangerously, fall, completely, hit, m...\n",
       "Name: text, Length: 30000, dtype: object"
      ]
     },
     "execution_count": 94,
     "metadata": {},
     "output_type": "execute_result"
    }
   ],
   "source": [
    "data2 = clean_text_train.apply(splitting_dataframe)\n",
    "data2"
   ]
  },
  {
   "cell_type": "code",
   "execution_count": 95,
   "id": "ec6a863a",
   "metadata": {},
   "outputs": [],
   "source": [
    "def ngram_list(data,ngram_range):\n",
    "    ngram = ngrams(data,ngram_range)\n",
    "    ngram_list1 = []\n",
    "    for ngram1 in ngram:\n",
    "        ngram_list1.append(\" \".join(ngram1))\n",
    "    return ngram_list1\n"
   ]
  },
  {
   "cell_type": "code",
   "execution_count": 96,
   "id": "e5acbb64",
   "metadata": {},
   "outputs": [
    {
     "data": {
      "text/plain": [
       "5406     [slasher, well, like, horror, definitely, one,...\n",
       "29810    [based, elmore, leonard, violent, intelligent,...\n",
       "9966     [fourth, feature, film, marc, recha, third, ma...\n",
       "27442    [famous, movie, subject, freudian, analysis, p...\n",
       "8522     [former, submariner, one, worst, submarine, mo...\n",
       "                               ...                        \n",
       "28667    [one, best, film, seen, year, not, gwyneth, pa...\n",
       "4983     [movie, really, nothing, besides, admittedly, ...\n",
       "11444    [action, western, james, steart, lead, star, c...\n",
       "74       [picking, along, rest, marx, brother, box, set...\n",
       "17915    [film, funny, film, violence, bad, acting, wel...\n",
       "Name: text, Length: 10000, dtype: object"
      ]
     },
     "execution_count": 96,
     "metadata": {},
     "output_type": "execute_result"
    }
   ],
   "source": [
    "unigrams = data.apply(lambda x : ngram_list(x,1))\n",
    "unigrams"
   ]
  },
  {
   "cell_type": "code",
   "execution_count": 97,
   "id": "d4a3cb16",
   "metadata": {},
   "outputs": [
    {
     "data": {
      "text/plain": [
       "5406     [slasher well, well like, like horror, horror ...\n",
       "29810    [based elmore, elmore leonard, leonard violent...\n",
       "9966     [fourth feature, feature film, film marc, marc...\n",
       "27442    [famous movie, movie subject, subject freudian...\n",
       "8522     [former submariner, submariner one, one worst,...\n",
       "                               ...                        \n",
       "28667    [one best, best film, film seen, seen year, ye...\n",
       "4983     [movie really, really nothing, nothing besides...\n",
       "11444    [action western, western james, james steart, ...\n",
       "74       [picking along, along rest, rest marx, marx br...\n",
       "17915    [film funny, funny film, film violence, violen...\n",
       "Name: text, Length: 10000, dtype: object"
      ]
     },
     "execution_count": 97,
     "metadata": {},
     "output_type": "execute_result"
    }
   ],
   "source": [
    "bigrams = data.apply(lambda x : ngram_list(x,2))\n",
    "bigrams"
   ]
  },
  {
   "cell_type": "code",
   "execution_count": 98,
   "id": "d053fd59",
   "metadata": {},
   "outputs": [
    {
     "data": {
      "text/plain": [
       "5406     [slasher well like, well like horror, like hor...\n",
       "29810    [based elmore leonard, elmore leonard violent,...\n",
       "9966     [fourth feature film, feature film marc, film ...\n",
       "27442    [famous movie subject, movie subject freudian,...\n",
       "8522     [former submariner one, submariner one worst, ...\n",
       "                               ...                        \n",
       "28667    [one best film, best film seen, film seen year...\n",
       "4983     [movie really nothing, really nothing besides,...\n",
       "11444    [action western james, western james steart, j...\n",
       "74       [picking along rest, along rest marx, rest mar...\n",
       "17915    [film funny film, funny film violence, film vi...\n",
       "Name: text, Length: 10000, dtype: object"
      ]
     },
     "execution_count": 98,
     "metadata": {},
     "output_type": "execute_result"
    }
   ],
   "source": [
    "trigrams = data.apply(lambda x : ngram_list(x,3))\n",
    "trigrams"
   ]
  },
  {
   "cell_type": "code",
   "execution_count": 100,
   "id": "15ea5659",
   "metadata": {},
   "outputs": [
    {
     "data": {
      "text/plain": [
       "5406     [slasher well like horror, well like horror de...\n",
       "29810    [based elmore leonard violent, elmore leonard ...\n",
       "9966     [fourth feature film marc, feature film marc r...\n",
       "27442    [famous movie subject freudian, movie subject ...\n",
       "8522     [former submariner one worst, submariner one w...\n",
       "                               ...                        \n",
       "28667    [one best film seen, best film seen year, film...\n",
       "4983     [movie really nothing besides, really nothing ...\n",
       "11444    [action western james steart, western james st...\n",
       "74       [picking along rest marx, along rest marx brot...\n",
       "17915    [film funny film violence, funny film violence...\n",
       "Name: text, Length: 10000, dtype: object"
      ]
     },
     "execution_count": 100,
     "metadata": {},
     "output_type": "execute_result"
    }
   ],
   "source": [
    "quadragrams = data.apply(lambda x : ngram_list(x,4))\n",
    "quadragrams"
   ]
  },
  {
   "cell_type": "code",
   "execution_count": 101,
   "id": "db1eba2a",
   "metadata": {},
   "outputs": [
    {
     "data": {
      "text/plain": [
       "5406     [slasher well like horror definitely, well lik...\n",
       "29810    [based elmore leonard violent intelligent, elm...\n",
       "9966     [fourth feature film marc recha, feature film ...\n",
       "27442    [famous movie subject freudian analysis, movie...\n",
       "8522     [former submariner one worst submarine, submar...\n",
       "                               ...                        \n",
       "28667    [one best film seen year, best film seen year ...\n",
       "4983     [movie really nothing besides admittedly, real...\n",
       "11444    [action western james steart lead, western jam...\n",
       "74       [picking along rest marx brother, along rest m...\n",
       "17915    [film funny film violence bad, funny film viol...\n",
       "Name: text, Length: 10000, dtype: object"
      ]
     },
     "execution_count": 101,
     "metadata": {},
     "output_type": "execute_result"
    }
   ],
   "source": [
    "pentaagrams = data.apply(lambda x : ngram_list(x,5))\n",
    "pentaagrams"
   ]
  },
  {
   "cell_type": "code",
   "execution_count": 103,
   "id": "e5888445",
   "metadata": {},
   "outputs": [
    {
     "data": {
      "text/plain": [
       "5406     [slasher well like horror definitely one, well...\n",
       "29810    [based elmore leonard violent intelligent acti...\n",
       "9966     [fourth feature film marc recha third, feature...\n",
       "27442    [famous movie subject freudian analysis posses...\n",
       "8522     [former submariner one worst submarine movie, ...\n",
       "                               ...                        \n",
       "28667    [one best film seen year not, best film seen y...\n",
       "4983     [movie really nothing besides admittedly serie...\n",
       "11444    [action western james steart lead star, wester...\n",
       "74       [picking along rest marx brother box, along re...\n",
       "17915    [film funny film violence bad acting, funny fi...\n",
       "Name: text, Length: 10000, dtype: object"
      ]
     },
     "execution_count": 103,
     "metadata": {},
     "output_type": "execute_result"
    }
   ],
   "source": [
    "hexagrams = data.apply(lambda x : ngram_list(x,6))\n",
    "hexagrams"
   ]
  },
  {
   "cell_type": "code",
   "execution_count": 107,
   "id": "e873877b",
   "metadata": {},
   "outputs": [
    {
     "data": {
      "text/plain": [
       "['slasher well like horror definitely one see',\n",
       " 'well like horror definitely one see otherwise',\n",
       " 'like horror definitely one see otherwise not',\n",
       " 'horror definitely one see otherwise not even',\n",
       " 'definitely one see otherwise not even completely',\n",
       " 'one see otherwise not even completely obvious',\n",
       " 'see otherwise not even completely obvious film',\n",
       " 'otherwise not even completely obvious film extremely',\n",
       " 'not even completely obvious film extremely low',\n",
       " 'even completely obvious film extremely low budget',\n",
       " 'completely obvious film extremely low budget instance',\n",
       " 'obvious film extremely low budget instance look',\n",
       " 'film extremely low budget instance look entire',\n",
       " 'extremely low budget instance look entire film',\n",
       " 'low budget instance look entire film shot',\n",
       " 'budget instance look entire film shot warehouse',\n",
       " 'instance look entire film shot warehouse somewhere',\n",
       " 'look entire film shot warehouse somewhere numerous',\n",
       " 'entire film shot warehouse somewhere numerous occasion',\n",
       " 'film shot warehouse somewhere numerous occasion see',\n",
       " 'shot warehouse somewhere numerous occasion see mike',\n",
       " 'warehouse somewhere numerous occasion see mike boom',\n",
       " 'somewhere numerous occasion see mike boom shadow',\n",
       " 'numerous occasion see mike boom shadow camera',\n",
       " 'occasion see mike boom shadow camera man',\n",
       " 'see mike boom shadow camera man shadow',\n",
       " 'mike boom shadow camera man shadow trust',\n",
       " 'boom shadow camera man shadow trust not',\n",
       " 'shadow camera man shadow trust not need',\n",
       " 'camera man shadow trust not need look',\n",
       " 'man shadow trust not need look try',\n",
       " 'shadow trust not need look try ignore',\n",
       " 'trust not need look try ignore cheesy',\n",
       " 'not need look try ignore cheesy actor',\n",
       " 'need look try ignore cheesy actor call',\n",
       " 'look try ignore cheesy actor call basic',\n",
       " 'try ignore cheesy actor call basic outline',\n",
       " 'ignore cheesy actor call basic outline people',\n",
       " 'cheesy actor call basic outline people decide',\n",
       " 'actor call basic outline people decide game',\n",
       " 'call basic outline people decide game show',\n",
       " 'basic outline people decide game show survive',\n",
       " 'outline people decide game show survive night',\n",
       " 'people decide game show survive night big',\n",
       " 'decide game show survive night big maze',\n",
       " 'game show survive night big maze due',\n",
       " 'show survive night big maze due killer',\n",
       " 'survive night big maze due killer loose',\n",
       " 'night big maze due killer loose whoever',\n",
       " 'big maze due killer loose whoever live',\n",
       " 'maze due killer loose whoever live end',\n",
       " 'due killer loose whoever live end get',\n",
       " 'killer loose whoever live end get rich',\n",
       " 'loose whoever live end get rich something',\n",
       " 'whoever live end get rich something film',\n",
       " 'live end get rich something film keep',\n",
       " 'end get rich something film keep watching',\n",
       " 'get rich something film keep watching rarely',\n",
       " 'rich something film keep watching rarely find',\n",
       " 'something film keep watching rarely find cheap',\n",
       " 'film keep watching rarely find cheap budget',\n",
       " 'keep watching rarely find cheap budget horror',\n",
       " 'watching rarely find cheap budget horror day',\n",
       " 'rarely find cheap budget horror day example',\n",
       " 'find cheap budget horror day example watched',\n",
       " 'cheap budget horror day example watched thought',\n",
       " 'budget horror day example watched thought self',\n",
       " 'horror day example watched thought self mind',\n",
       " 'day example watched thought self mind game',\n",
       " 'example watched thought self mind game especially',\n",
       " 'watched thought self mind game especially anyway',\n",
       " 'thought self mind game especially anyway would',\n",
       " 'self mind game especially anyway would recommend',\n",
       " 'mind game especially anyway would recommend watch',\n",
       " 'game especially anyway would recommend watch make',\n",
       " 'especially anyway would recommend watch make mind']"
      ]
     },
     "execution_count": 107,
     "metadata": {},
     "output_type": "execute_result"
    }
   ],
   "source": [
    "heptagrams = data.apply(lambda x : ngram_list(x,7))\n",
    "heptagrams[5406]"
   ]
  },
  {
   "cell_type": "code",
   "execution_count": null,
   "id": "bf8a4e19",
   "metadata": {},
   "outputs": [],
   "source": [
    "heptagrams = data.apply(lambda x : ngram_list(x,7))\n",
    "heptagrams[5406]"
   ]
  }
 ],
 "metadata": {
  "kernelspec": {
   "display_name": "Python 3 (ipykernel)",
   "language": "python",
   "name": "python3"
  },
  "language_info": {
   "codemirror_mode": {
    "name": "ipython",
    "version": 3
   },
   "file_extension": ".py",
   "mimetype": "text/x-python",
   "name": "python",
   "nbconvert_exporter": "python",
   "pygments_lexer": "ipython3",
   "version": "3.11.4"
  }
 },
 "nbformat": 4,
 "nbformat_minor": 5
}
